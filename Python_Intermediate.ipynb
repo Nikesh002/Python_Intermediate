{
  "cells": [
    {
      "attachments": {},
      "cell_type": "markdown",
      "metadata": {
        "id": "4GtRwPajWtgH"
      },
      "source": [
        "# <center><u> Python-Intermediate </u></center>\n"
      ]
    },
    {
      "attachments": {},
      "cell_type": "markdown",
      "metadata": {
        "id": "qnfR62KaWtgM"
      },
      "source": [
        "Here you can start digging into our intermediate-level programming questions that will teach you new Python concepts. This category is for intermediate Python developers who already know the basics of Python development and want to expand their knowledge.\n",
        "\n",
        "\n",
        "\n",
        "Becoming a Python expert takes time, but over time you’ll master this beautiful programming language. It’s worth it! \n",
        "\n",
        "\n",
        "So lets get started!"
      ]
    },
    {
      "attachments": {},
      "cell_type": "markdown",
      "metadata": {
        "id": "hBV6jA72WtgM"
      },
      "source": [
        "1.Lets remove duplicates from list names=['A','B','C','A','D','E','F','G','H','E','D']\n",
        "\n"
      ]
    },
    {
      "cell_type": "code",
      "execution_count": null,
      "metadata": {
        "colab": {
          "base_uri": "https://localhost:8080/"
        },
        "id": "A32nJBGHWtgN",
        "outputId": "34f9d672-36b4-44c0-ea28-8cae62464f7f"
      },
      "outputs": [
        {
          "data": {
            "text/plain": [
              "['A', 'B', 'C', 'D', 'E', 'F', 'G', 'H']"
            ]
          },
          "execution_count": 1,
          "metadata": {},
          "output_type": "execute_result"
        }
      ],
      "source": [
        "#code here\n",
        "names=['A','B','C','A','D','E','F','G','H','E','D']\n",
        "ans = []\n",
        "for ch in names:\n",
        "  if ch not in ans:\n",
        "    ans.append(ch)\n",
        "\n",
        "ans\n"
      ]
    },
    {
      "attachments": {},
      "cell_type": "markdown",
      "metadata": {
        "id": "3vs-MwqhWtgO"
      },
      "source": [
        "2. Good! Shall we try solving above problem in shhorter way using list comprehention? It will be amazing. Here we go!\n"
      ]
    },
    {
      "cell_type": "code",
      "execution_count": null,
      "metadata": {
        "colab": {
          "base_uri": "https://localhost:8080/"
        },
        "id": "ngy_ypU2WtgP",
        "outputId": "81a682a7-1f10-4059-f467-74c6e0c7b2d0"
      },
      "outputs": [
        {
          "name": "stdout",
          "output_type": "stream",
          "text": [
            "['A', 'B', 'C', 'D', 'E', 'F', 'G', 'H']\n",
            "['A', 'B', 'C', 'D', 'E', 'F', 'G', 'H']\n"
          ]
        }
      ],
      "source": [
        "#code here\n",
        "ans = []\n",
        "[ans.append(ch) for ch in names if ch not in ans]\n",
        "print(ans)\n",
        "\n",
        "print(sorted(list(set(names))))"
      ]
    },
    {
      "attachments": {},
      "cell_type": "markdown",
      "metadata": {
        "id": "kuBGT9n5WtgP"
      },
      "source": [
        "3. define a funtion 'occurence' which takes 2 inputs, one list 'lst' and another one a number 'n' and count the number of occurrences of n in your list lst."
      ]
    },
    {
      "cell_type": "code",
      "execution_count": null,
      "metadata": {
        "colab": {
          "base_uri": "https://localhost:8080/"
        },
        "id": "W8SL5qfUWtgQ",
        "outputId": "6576769a-32c5-4c72-eceb-265fc561ea1c"
      },
      "outputs": [
        {
          "data": {
            "text/plain": [
              "4"
            ]
          },
          "execution_count": 9,
          "metadata": {},
          "output_type": "execute_result"
        }
      ],
      "source": [
        "#your code\n",
        "def occurence(lst,n):\n",
        "  return lst.count(n)\n",
        "\n",
        " \n",
        "#lets use your function\n",
        "occurence([2,3,4,8,1,3,5,2,1,3,1,2,2], 2)"
      ]
    },
    {
      "attachments": {},
      "cell_type": "markdown",
      "metadata": {
        "id": "vzaaHEIwWtgQ"
      },
      "source": [
        "4. Calculate factorial of a number ( Here number=3) using while loop"
      ]
    },
    {
      "cell_type": "code",
      "execution_count": null,
      "metadata": {
        "colab": {
          "base_uri": "https://localhost:8080/"
        },
        "id": "3zjPibDmWtgR",
        "outputId": "8e4159d7-4bd1-485d-a2e5-6cc28279e389"
      },
      "outputs": [
        {
          "name": "stdout",
          "output_type": "stream",
          "text": [
            "Factorial(3) = 6\n"
          ]
        }
      ],
      "source": [
        "number = n = 3\n",
        "#code here\n",
        "fact = 1\n",
        "while number >= 1:\n",
        "  fact = fact * number\n",
        "  number-=1\n",
        "if n <=0:\n",
        "  print(\"Try with positive number.\")\n",
        "else:\n",
        "  print(f\"Factorial({n}) = {fact}\")\n"
      ]
    },
    {
      "attachments": {},
      "cell_type": "markdown",
      "metadata": {
        "id": "8d4D4cJpWtgR"
      },
      "source": [
        "5. Reverse a given integer number num = 47594038222 and display the count of total number of digits in your revered number using while loop."
      ]
    },
    {
      "cell_type": "code",
      "execution_count": null,
      "metadata": {
        "colab": {
          "base_uri": "https://localhost:8080/"
        },
        "id": "L5Vs4xTtWtgR",
        "outputId": "4866639f-7b8f-45aa-8ebf-8d117f6709e2"
      },
      "outputs": [
        {
          "name": "stdout",
          "output_type": "stream",
          "text": [
            "Total number of digits in 22283049574 are 11\n"
          ]
        }
      ],
      "source": [
        "#code here\n",
        "num = 47594038222\n",
        "\n",
        "def reverse(num):\n",
        "  rev_num = None\n",
        "  count = 0\n",
        "  while num>0:\n",
        "    count+=1\n",
        "    digit = num%10\n",
        "    if rev_num == None:\n",
        "      rev_num = digit\n",
        "    else:\n",
        "      rev_num*=10\n",
        "      rev_num+=digit\n",
        "    num = num//10\n",
        "  return f\"Total number of digits in {rev_num} are {count}\"\n",
        "  \n",
        "print(reverse(num))"
      ]
    },
    {
      "attachments": {},
      "cell_type": "markdown",
      "metadata": {
        "id": "9qtxFvU2WtgR"
      },
      "source": [
        "6. Can you reverse you given num without using loop in just one line?\n",
        "\n",
        "Hint: apply some slicing trick to do it."
      ]
    },
    {
      "cell_type": "code",
      "execution_count": null,
      "metadata": {
        "colab": {
          "base_uri": "https://localhost:8080/"
        },
        "id": "p1eS62ecWtgS",
        "outputId": "f11522cb-51e9-4eb7-c2d9-93b2b848c398"
      },
      "outputs": [
        {
          "name": "stdout",
          "output_type": "stream",
          "text": [
            "22283049574\n"
          ]
        }
      ],
      "source": [
        "num = 47594038222\n",
        "\n",
        "#one line code here\n",
        "print(int(str(num)[-1::-1]))"
      ]
    },
    {
      "attachments": {},
      "cell_type": "markdown",
      "metadata": {
        "id": "hurM8KcSWtgS"
      },
      "source": [
        "7. Write a function that checks whether a given sequence of number is IP address or not and print all valid possible IP from a given digit. If not an IP then it prints empty list\n",
        "\n",
        "**Note:** According to Wikipedia, IPv4 addresses are canonically represented in dot-decimal notation, which consists of four decimal numbers, each ranging from 0 to 255, separated by dots, e.g., 172.16.254.1"
      ]
    },
    {
      "cell_type": "code",
      "execution_count": null,
      "metadata": {
        "colab": {
          "base_uri": "https://localhost:8080/"
        },
        "id": "oNIW7VyFWtgS",
        "outputId": "cd0ca350-f9d2-497f-f5f4-2eda24dad401"
      },
      "outputs": [
        {
          "name": "stdout",
          "output_type": "stream",
          "text": [
            "['255.255.11.135', '255.255.111.35']\n",
            "[]\n"
          ]
        }
      ],
      "source": [
        "#Code here\n",
        "def check_ip(ip):\n",
        "  ip = ip.split(\".\")\n",
        "  # checking for corner cases\n",
        "  for i in ip:\n",
        "    if (len(i)>3 or int(i) < 0 or int(i) > 255):\n",
        "      return False\n",
        "    if len(i) > 1 and int(i) == 0:\n",
        "      return False\n",
        "    if (len(i) > 1 and int(i) != 0 and i[0] == '0'):\n",
        "      return False\n",
        "  return True\n",
        "\n",
        "# Function converts string to IP addr\n",
        "def convert(s):\n",
        "  sz = len(s)\n",
        "  # Check for string size\n",
        "  if sz > 12:\n",
        "    return []\n",
        "  snew = s\n",
        "  l = []\n",
        "  # Generating diffrent combinations.\n",
        "  for i in range(1, sz-2):\n",
        "    for j in range(i+1,sz-1):\n",
        "      for k in range(j+1,sz):\n",
        "        snew = snew[:k] + \".\" + snew[k:]\n",
        "        snew = snew[:j] + \".\" + snew[j:]\n",
        "        snew = snew[:i] + \".\" + snew[i:]\n",
        "\n",
        "        # Check the validity of the combinations\n",
        "        if check_ip(snew):\n",
        "          l.append(snew)\n",
        "        snew = s\n",
        "  return l\n",
        "\n",
        "# Check your code with below numbers    \n",
        "A = \"25525511135\"\n",
        "B = \"25505011536\"\n",
        " \n",
        "print(convert(A))\n",
        "print(convert(B))\n",
        "    \n",
        "    \n"
      ]
    },
    {
      "attachments": {},
      "cell_type": "markdown",
      "metadata": {
        "id": "FukrdAXMWtgT"
      },
      "source": [
        "8. Solve the quadratic equation ax**2 + bx + c = 0 where a =4, b=6, c=2"
      ]
    },
    {
      "cell_type": "code",
      "execution_count": null,
      "metadata": {
        "colab": {
          "base_uri": "https://localhost:8080/"
        },
        "id": "wL1sWuYLWtgT",
        "outputId": "c30536a8-ae53-4190-a287-5da24d4a5c51"
      },
      "outputs": [
        {
          "name": "stdout",
          "output_type": "stream",
          "text": [
            "Two distinct and real roots exists: -0.5 and -1.0\n"
          ]
        }
      ],
      "source": [
        "#code here\n",
        "import math\n",
        "\n",
        "def check_quadratic_eqe(a,b,c):\n",
        "  discriminant = (b * b) - (4 * a * c)\n",
        "  if discriminant > 0:\n",
        "    root1 = (-b + math.sqrt(discriminant)) / (2*a)\n",
        "    root2 = (-b - math.sqrt(discriminant)) / (2*a)\n",
        "    print(f\"Two distinct and real roots exists: {root1} and {root2}\")\n",
        "  elif discriminant == 0: \n",
        "    root1 = root2 = -b / (2 * a)\n",
        "    print(f\"Two equal and real roots exists: {root1} and {root2}\")\n",
        "  else:\n",
        "    root1 = root2 = -b / (2 * a)\n",
        "    imaginary = math.sqrt(-discriminant) / (2 * a)\n",
        "    print(f\"Two distinct complex roots exists: {root1+imaginary} and {root2-imaginary}\")\n",
        "  \n",
        "\n",
        "check_quadratic_eqe(4,6,2)\n"
      ]
    },
    {
      "attachments": {},
      "cell_type": "markdown",
      "metadata": {
        "id": "6vngA60DWtgT"
      },
      "source": [
        "9. Write a program to Remove Punctuations From a String \n",
        "\n",
        "s=\"Wow!!!, we are going ahead with our course to learn *machine learning* ---are'nt you excited? :)\""
      ]
    },
    {
      "cell_type": "code",
      "execution_count": null,
      "metadata": {
        "colab": {
          "base_uri": "https://localhost:8080/"
        },
        "id": "gvQfy5kQWtgT",
        "outputId": "5f86e9ef-cd50-41d9-89cd-5276f0137dfc"
      },
      "outputs": [
        {
          "name": "stdout",
          "output_type": "stream",
          "text": [
            "Wow we are going ahead with our course to learn machine learning arent you excited \n"
          ]
        }
      ],
      "source": [
        "# code here\n",
        "import string\n",
        "s=\"Wow!!!, we are going ahead with our course to learn machine learning ---are'nt you excited? :)\"\n",
        "new_s_lst = []\n",
        "new_s =\"\"\n",
        "for ch in s:\n",
        "  if ch not in string.punctuation:\n",
        "    new_s_lst.append(ch)\n",
        "\n",
        "print(new_s.join(new_s_lst))\n",
        "\n"
      ]
    },
    {
      "attachments": {},
      "cell_type": "markdown",
      "metadata": {
        "id": "aCJgsvWKWtgU"
      },
      "source": [
        "10. Write a program which takes 2 digits, X,Y as input and generates a 2-dimensional array. The element value in the i-th row and j-th column of the array should be i*j.\n",
        "\n",
        "Note: i=0,1.., X-1; j=0,1,i^Y-1."
      ]
    },
    {
      "cell_type": "code",
      "execution_count": null,
      "metadata": {
        "colab": {
          "base_uri": "https://localhost:8080/"
        },
        "id": "BAh26WXlWtgU",
        "outputId": "fd25fa7b-2a75-4a9a-e08e-e5f4c731b041"
      },
      "outputs": [
        {
          "name": "stdout",
          "output_type": "stream",
          "text": [
            "[[0, 0, 0, 0], [0, 1, 2, 3], [0, 2, 4, 6]]\n"
          ]
        }
      ],
      "source": [
        "digit1=3\n",
        "digit2=4\n",
        "\n",
        "#code here\n",
        "def Two_D_matrix(x,y):\n",
        "  matrix =[]\n",
        "  for i in range(0,x):\n",
        "    row=[]\n",
        "    for j in range(0,y):\n",
        "      row.append(i*j)\n",
        "    matrix.append(row)\n",
        "  print(matrix)\n",
        "\n",
        "Two_D_matrix(digit1,digit2)\n",
        "\n"
      ]
    },
    {
      "attachments": {},
      "cell_type": "markdown",
      "metadata": {
        "id": "sZrc0--VWtgV"
      },
      "source": [
        "11. For given string S and integers P and Q, which denotes the cost of removal of substrings “he” and “lo” respectively from S, the task is to find the maximum cost of removing all occurrences of substrings “he” and “lo”.\n",
        "\n",
        "example if S = “hellohellohellohellohello”, P = 6, Q = 4, then cost to remove 'he' and 'lo' is 50"
      ]
    },
    {
      "cell_type": "code",
      "execution_count": null,
      "metadata": {
        "colab": {
          "base_uri": "https://localhost:8080/"
        },
        "id": "79BMmuVHWtgV",
        "outputId": "4f9f4696-70eb-4f3e-d3f4-b3d53449d264"
      },
      "outputs": [
        {
          "name": "stdout",
          "output_type": "stream",
          "text": [
            "50\n"
          ]
        }
      ],
      "source": [
        "# code here\n",
        "def MaxCollection(S,P,Q):\n",
        "  return S.count(\"he\")*P+S.count(\"lo\")*Q\n",
        "\n",
        "    \n",
        "    \n",
        "# Check code with \n",
        "\n",
        "S = \"hellohellohellohellohello\"\n",
        "\n",
        "# Costs\n",
        "P = 6\n",
        "Q = 4\n",
        "\n",
        "\n",
        "print(MaxCollection(S, P, Q))"
      ]
    },
    {
      "attachments": {},
      "cell_type": "markdown",
      "metadata": {
        "id": "tElaaNPNWtgV"
      },
      "source": [
        "12. Given a binary string S , the task is to find the smallest string possible by removing all occurrences of substrings “01” and “11”. After removal of any substring, concatenate the remaining parts of the string.\n",
        "\n",
        "Example\n",
        "    \n",
        "    Input: S = “0010110”\n",
        "    Output: String = 0\n",
        "    \n",
        "    Explanation: String can be transformed by the following steps: \n",
        "    0010110 → 00110 → 010 → 0. \n",
        "    Since no occurrence of substrings 01 and 11 are remaining, the string “0” is of minimum possible length 1."
      ]
    },
    {
      "cell_type": "code",
      "execution_count": null,
      "metadata": {
        "colab": {
          "base_uri": "https://localhost:8080/",
          "height": 35
        },
        "id": "i9OIbWhoWtgV",
        "outputId": "f9e72e84-fb39-408b-b9e4-ac739935b171"
      },
      "outputs": [
        {
          "data": {
            "application/vnd.google.colaboratory.intrinsic+json": {
              "type": "string"
            },
            "text/plain": [
              "'The final string is: 0 \\n The final string size is: 1\\n'"
            ]
          },
          "execution_count": 67,
          "metadata": {},
          "output_type": "execute_result"
        }
      ],
      "source": [
        "#code here\n",
        "newline = '\\n'\n",
        "def smallest_str(s):\n",
        "  count = len(s)\n",
        "  x=s\n",
        "  while count>1:\n",
        "    x=x.replace(\"01\"or\"11\",\"\",1)\n",
        "    count-=1\n",
        "  return (f\"The final string is: {x} {newline}\" \n",
        "          f\" The final string size is: {len(x)}\\n\")\n",
        "#check code here\n",
        "    \n",
        "s=\"0010110\"\n",
        "smallest_str(s)\n",
        "# The final string is: 0\n",
        "# The final string size is: 1\n",
        "\n"
      ]
    },
    {
      "attachments": {},
      "cell_type": "markdown",
      "metadata": {
        "id": "BYeCBfFUWtgV"
      },
      "source": [
        "13. Write a function such that it accepts two integers n, m as arguments Find the sum of all numbers in range from 1 to m(both inclusive) that are not divisible by n. Return difference between sum of integers not divisible by n with sum of numbers divisible by n\n",
        "\n",
        "Example\n",
        "\n",
        "    Input\n",
        "    n:4\n",
        "    m:20\n",
        "    Output\n",
        "    90"
      ]
    },
    {
      "cell_type": "code",
      "execution_count": null,
      "metadata": {
        "colab": {
          "base_uri": "https://localhost:8080/"
        },
        "id": "KgO9ShzPWtgV",
        "outputId": "9097d6f2-4401-4f08-e60d-865152bc1745"
      },
      "outputs": [
        {
          "name": "stdout",
          "output_type": "stream",
          "text": [
            "90\n"
          ]
        }
      ],
      "source": [
        "#code here\n",
        "def Sum(n,m):\n",
        "  sum1=0\n",
        "  sum2=0\n",
        "  for i in range(1,m+1):\n",
        "    if i%n==0:\n",
        "      sum1+=i\n",
        "    else:\n",
        "      sum2+=i\n",
        "  return abs(sum1-sum2)\n",
        "\n",
        "print(Sum(4,20))\n"
      ]
    },
    {
      "attachments": {},
      "cell_type": "markdown",
      "metadata": {
        "id": "GMjx2bfxWtgW"
      },
      "source": [
        "14. Write a function count_code that return the number of times that the string \"code\" appears anywhere in the given string, except we'll accept any letter for the 'd', so \"cope\" and \"cooe\" count.\n",
        "\n",
        "\n",
        "    count_code('aaacodebbb') → 1\n",
        "    count_code('codexxcode') → 2\n",
        "    count_code('cozexxcope') → 2"
      ]
    },
    {
      "cell_type": "code",
      "execution_count": null,
      "metadata": {
        "colab": {
          "base_uri": "https://localhost:8080/"
        },
        "id": "7G1E7BewWtgW",
        "outputId": "b3822735-ba2f-44d2-9e07-7a80211cdf04"
      },
      "outputs": [
        {
          "name": "stdout",
          "output_type": "stream",
          "text": [
            "1\n",
            "2\n",
            "1\n"
          ]
        }
      ],
      "source": [
        "#code here\n",
        "def count_code(str1):\n",
        "  if str1.count(\"code\") > 0 :\n",
        "    return str1.count(\"code\")\n",
        "  elif str1.count(\"d\") > 0 or str1.count(\"cope\") > 0 or str1.count(\"cooe\") > 0:\n",
        "    return str1.count(\"d\")+str1.count(\"cope\")+str1.count(\"cooe\")\n",
        "  else:\n",
        "    return f\"Didn't find the mentioned patterns in the strings\"\n",
        "\n",
        "\n",
        "#check your code \n",
        "print(count_code('aaacodebbb'))\n",
        "print(count_code('codexxcode'))\n",
        "print(count_code('cozexxcope'))\n"
      ]
    },
    {
      "attachments": {},
      "cell_type": "markdown",
      "metadata": {
        "id": "wqFNSGkCWtgW"
      },
      "source": [
        "15. Lets have one moderate level question for you. \n",
        "\n",
        "Find the sum of the series 4 +44 + 444 + 4444 + .. n terms\n",
        "\n",
        "here keep n=5"
      ]
    },
    {
      "cell_type": "code",
      "execution_count": null,
      "metadata": {
        "colab": {
          "base_uri": "https://localhost:8080/"
        },
        "id": "U4qRCUQFWtgW",
        "outputId": "40b5658f-3912-44c6-edc9-3637df912914"
      },
      "outputs": [
        {
          "name": "stdout",
          "output_type": "stream",
          "text": [
            "4 44 444 4444 44444 \n",
            "Sum of above series is = 49380\n"
          ]
        }
      ],
      "source": [
        "#code here\n",
        "n=5\n",
        "sum=0\n",
        "num=4\n",
        "for i in range(n):\n",
        "  print(num,end=\" \")\n",
        "  sum+=num\n",
        "  num=num*10+4\n",
        "print()\n",
        "print(f\"Sum of above series is = {sum}\")\n"
      ]
    },
    {
      "attachments": {},
      "cell_type": "markdown",
      "metadata": {
        "id": "XH_ocrNWWtgY"
      },
      "source": [
        "16. Assume s is a string of lower case characters.\n",
        "<br>\n",
        "Write a program that counts up the number of vowels contained in the string s. Valid vowels are: 'a', 'e', 'i', 'o', and 'u'. For example, if s = 'azcbobobegghakl', your program should print:<br>\n",
        "```Number of vowels: 5```"
      ]
    },
    {
      "cell_type": "code",
      "execution_count": null,
      "metadata": {
        "colab": {
          "base_uri": "https://localhost:8080/"
        },
        "id": "7uCQTExKWtgY",
        "outputId": "746f3dfb-f5a8-4540-93df-bda148d89138"
      },
      "outputs": [
        {
          "name": "stdout",
          "output_type": "stream",
          "text": [
            "Number of vowels = 5\n"
          ]
        }
      ],
      "source": [
        "#code here\n",
        "s = 'azcbobobegghakl'\n",
        "vowels = ['a', 'e', 'i', 'o', 'u']\n",
        "count = 0\n",
        "for ch in s:\n",
        "  if ch in vowels:\n",
        "    count+=1\n",
        "print(f\"Number of vowels = {count}\")\n"
      ]
    },
    {
      "attachments": {},
      "cell_type": "markdown",
      "metadata": {
        "id": "ENqZvqo0WtgY"
      },
      "source": [
        "17. well done. Now we want you to solve above question in just one line. have faith in your, you can do it. "
      ]
    },
    {
      "cell_type": "code",
      "execution_count": null,
      "metadata": {
        "colab": {
          "base_uri": "https://localhost:8080/"
        },
        "id": "SQaBwDqNWtgY",
        "outputId": "1e135471-46ec-4182-a6c9-a2344cd92903"
      },
      "outputs": [
        {
          "name": "stdout",
          "output_type": "stream",
          "text": [
            "Number of vowels = 5\n"
          ]
        }
      ],
      "source": [
        "# one line code here.\n",
        "\n",
        "print(f\"Number of vowels = {len([ch for ch in s if ch in vowels])}\")\n",
        "\n"
      ]
    },
    {
      "attachments": {},
      "cell_type": "markdown",
      "metadata": {
        "id": "qGWdX37AWtgY"
      },
      "source": [
        "18. Assume s is a string of lower case characters.\n",
        "\n",
        "Write a program that prints the number of times the string 'bob' occurs in s. For example, if s = 'azcbobobegghakl', then your program should print\n",
        "\n",
        "```Number of times bob occurs is: 2```"
      ]
    },
    {
      "cell_type": "code",
      "execution_count": null,
      "metadata": {
        "colab": {
          "base_uri": "https://localhost:8080/"
        },
        "id": "BfY-AJBOWtgZ",
        "outputId": "2c2062f0-974f-401c-8db5-4b338891480a"
      },
      "outputs": [
        {
          "name": "stdout",
          "output_type": "stream",
          "text": [
            "Number of times bob occurs is = 2\n"
          ]
        }
      ],
      "source": [
        "#code here\n",
        "s = 'azcbobobegghakl'\n",
        "count = 0\n",
        "for i in range(len(s)):\n",
        "  if s[i:i+3] == \"bob\":\n",
        "    count+=1\n",
        "\n",
        "print(f\"Number of times bob occurs is = {count}\")\n"
      ]
    },
    {
      "attachments": {},
      "cell_type": "markdown",
      "metadata": {
        "id": "z7Phv1OxWtgZ"
      },
      "source": [
        "19. Assume s is a string of lower case characters.\n",
        "\n",
        "Write a program that prints the longest substring of s in which the letters occur in alphabetical order. For example, if s = 'azcbobobegghakl', then your program should print\n",
        "\n",
        "```Longest substring in alphabetical order is: beggh```<br><br>\n",
        "In the case of ties, print the first substring. For example, if s = 'abcbcd', then your program should print\n",
        "\n",
        "```Longest substring in alphabetical order is: abc```"
      ]
    },
    {
      "cell_type": "code",
      "execution_count": null,
      "metadata": {
        "colab": {
          "base_uri": "https://localhost:8080/",
          "height": 35
        },
        "id": "v2UD_kZDWtgZ",
        "outputId": "dabb1a69-b77e-4450-9098-852d304599a8"
      },
      "outputs": [
        {
          "data": {
            "application/vnd.google.colaboratory.intrinsic+json": {
              "type": "string"
            },
            "text/plain": [
              "'eggh'"
            ]
          },
          "execution_count": 2,
          "metadata": {},
          "output_type": "execute_result"
        }
      ],
      "source": [
        "#code here\n",
        "s = 'azcbobobegghakl'\n",
        "\n",
        "def alphabetical_substrings(word):\n",
        "  current_sequence = []\n",
        "  last_letter = ''\n",
        "\n",
        "  for letter in word:\n",
        "    if letter >= last_letter:\n",
        "      current_sequence.append(letter)\n",
        "    else:\n",
        "      yield ''.join(current_sequence)\n",
        "      current_sequence = []\n",
        "    last_letter = letter\n",
        "  \n",
        "  if current_sequence:\n",
        "    yield ''.join(current_sequence)\n",
        "\n",
        "def longest_substring_in_alphabetical_order(word):\n",
        "  return max(alphabetical_substrings(word), key=len)\n",
        "\n",
        "longest_substring_in_alphabetical_order(s)\n"
      ]
    },
    {
      "attachments": {},
      "cell_type": "markdown",
      "metadata": {
        "id": "O03DVclUWtgZ"
      },
      "source": [
        "Awsesome! Great job so far. Hope you fell in love with python now.\n",
        "\n",
        "\n",
        "But wait we want to give a treat..:) We have a surprise for you in form of one of the task, in this task you have to create a game in python. You can take up this task as a mini project of your's in python. Hmm.. Sounds good. Isn't it?\n",
        "\n",
        "So lets gets started.. we have given the instructions below for the task in detail \n",
        "\n",
        "# Hangman Game\n",
        "## In this project we are going to create Hangman Game using python\n",
        "\n",
        "\n",
        "**Q. What is the hangman game?**<br>\n",
        "A:- Hangman is a guessing game. The player will tries to guess a word picked by the computer, by suggesting letters within a certain number of guesses\n",
        "\n",
        "\n",
        "# Task 1\n",
        "Create a function **is_word_guessed** that takes in two arguments :- <br> **secret_word**, **letters_guessed** <br>**returns True** if all of the letter of secret_word are in letters_guessed, **returns False** if not\n",
        "\n",
        "\n",
        "**Assumptions**<br>\n",
        "**secret_word**: string, the word the user is guessing; assumes all letters are lowercase<br>\n",
        "**letters_guessed**: list (of letters), which letters have been guessed so far; assumes that all letters are lowercase<br>\n",
        "\n",
        "**Example**:-<br> \n",
        "secret_word = 'apple'<br>\n",
        "letters_guessed = ['e', 'a', 'k', 'p', 'l', 's']<br>\n",
        "is_word_guessed() will return True.<br><br> \n",
        "secret_word = 'apple'<br>\n",
        "letters_guessed = ['e', 'i', 'k', 'p', 'r', 's']<br>\n",
        "is_word_guessed() will return False.<br><br> \n",
        "\n",
        "\n",
        "\n"
      ]
    },
    {
      "cell_type": "code",
      "execution_count": 1,
      "metadata": {
        "id": "f20UadoKWtgZ"
      },
      "outputs": [],
      "source": [
        "def is_word_guessed(secret_word, letters_guessed):\n",
        "    # Code here\n",
        "    flag = 1\n",
        "    for l in secret_word:\n",
        "      if l.lower() not in letters_guessed:\n",
        "        flag = 0\n",
        "\n",
        "    if flag:\n",
        "      return True\n",
        "    else:\n",
        "      return False\n"
      ]
    },
    {
      "attachments": {},
      "cell_type": "markdown",
      "metadata": {
        "id": "fuaxxaOYWtgZ"
      },
      "source": [
        "# Task 2\n",
        "Create a function **get_guessed_word** that takes in two arguments :-<br> **secret_word**, **letters_guessed** <br>**returns** string, comprised of known letters, and unknown letters represented by an underscore and a space (_ )<br>\n",
        "\n",
        "**Assumptions**<br>\n",
        "**secret_word**: string, the word the user is guessing;<br>\n",
        "**letters_guessed**: list (of letters), which letters have been guessed so far<br>\n",
        "\n",
        "**Example**:-<br>\n",
        "secret_word = 'apple'<br>\n",
        "letters_guessed = ['e', 'i', 'k', 'p', 'r', 's']<br>\n",
        "get_guessed_word() will return '_ pp_ e'\n",
        "\n",
        "```\n",
        "You want something like a_ _ _ d_ j and Not a___d_j,\n",
        "which might make it hard for the user to know how many characters are there to be guessed, \n",
        "that's why you want to use '_ ' instead of '_'\n",
        "```"
      ]
    },
    {
      "cell_type": "code",
      "execution_count": 9,
      "metadata": {
        "colab": {
          "base_uri": "https://localhost:8080/"
        },
        "id": "lgZOCOV7Wtga",
        "outputId": "6d1b2a49-ddd1-4c38-9142-7bed19280fb5"
      },
      "outputs": [
        {
          "name": "stdout",
          "output_type": "stream",
          "text": [
            "_ _ _ _ _ \n"
          ]
        }
      ],
      "source": [
        "# importing modules needed for the project\n",
        "import random\n",
        "import string\n",
        "\n",
        "def get_guessed_word(secret_word, letters_guessed):\n",
        "    \n",
        "#     code here\n",
        "  guessed_word_soFar = \"\"\n",
        "  for l in secret_word:\n",
        "    if l in letters_guessed:\n",
        "      guessed_word_soFar+=l\n",
        "    else:\n",
        "      guessed_word_soFar+='_ '\n",
        "\n",
        "  return guessed_word_soFar\n",
        "\n",
        "print(get_guessed_word(\"apple\", [\"o\"]))"
      ]
    },
    {
      "attachments": {},
      "cell_type": "markdown",
      "metadata": {
        "id": "n-FFgeOXWtga"
      },
      "source": [
        "# Task 3\n",
        "\n",
        "Create a function **get_available_letter** that takes in one arguments <br> **letters_guessed** <br>**returns** string (of letters), comprised of letters that represents which letters have not yet been guessed.\n",
        "\n",
        "**Assumptions**<br>\n",
        "**letters_guessed**: list (of letters), which letters have been guessed so far;<br>\n",
        "\n",
        "**Example**:-<br>\n",
        "letters_guessed = [’a’, ’l’, ’m’]<br>\n",
        "get_available_letter() will return 'bcdefghijknopqrstuvwxyz'<br>\n",
        "```\n",
        "You might want to consider using string.ascii_lowercase :=\n",
        "\n",
        "import string\n",
        "print(string.ascii_lowercase)\n",
        "output:- abcdefghijklmnopqrstuvwxyz\n",
        "```"
      ]
    },
    {
      "cell_type": "code",
      "execution_count": 3,
      "metadata": {
        "colab": {
          "base_uri": "https://localhost:8080/"
        },
        "id": "O0Ru7FUsWtga",
        "outputId": "38efd7c1-73a2-41c2-8b9d-c8aab3e4db75"
      },
      "outputs": [
        {
          "name": "stdout",
          "output_type": "stream",
          "text": [
            "abcdefghijklmnopqrstuvwxyz\n"
          ]
        }
      ],
      "source": [
        "\n",
        "def get_available_letters(letters_guessed):\n",
        "    '''\n",
        "    letters_guessed: list (of letters), which letters have been guessed so far\n",
        "    returns: string (of letters), comprised of letters that represents which letters have not\n",
        "      yet been guessed.\n",
        "    '''\n",
        "    # FILL IN YOUR CODE HERE \n",
        "    lst = []\n",
        "    alpha = string.ascii_lowercase\n",
        "    if len(letters_guessed) == 0:\n",
        "      return string.ascii_lowercase\n",
        "    else:\n",
        "      for i in range(len(letters_guessed)):\n",
        "        lst.append(alpha.replace(letters_guessed[i],\"\"))\n",
        "        alpha = lst[i]\n",
        "      return str(lst[-1])\n",
        "\n",
        "print(get_available_letters([]))"
      ]
    },
    {
      "attachments": {},
      "cell_type": "markdown",
      "metadata": {
        "id": "jQJszStcWtga"
      },
      "source": [
        "### Great, We have created all of the Helper functions, now let's start our work on the actual Hangman Game\n",
        "\n",
        "# Hangman Game\n",
        "\n",
        "Create a function **hangman** that takes in one argument<br>\n",
        "**secret_word** :- string, the secret word to guess.<br>\n",
        "\n",
        "**The function should do the following**:-<br>\n",
        "Starts up an interactive game of Hangman.\n",
        "\n",
        "* At the start of the game, let the user know how many letters the secret_word contains and how many guesses s/he starts with.\n",
        "\n",
        "* The user should start with 6 guesses\n",
        "\n",
        "* Before each round, you should display to the user how many guesses s/he has left and the letters that the user has not yet guessed.\n",
        "\n",
        "* Ask the user to supply one guess per round. Remember to make sure that the user puts in a letter!\n",
        "\n",
        "* The user should receive feedback immediately after each guess about whether their guess appears in the computer's word.\n",
        "\n",
        "* After each guess, you should display to the user the partially guessed word so far.\n",
        "\n",
        "* If the user inputs a letter that hasn’t been guessed before and the letter is in the secret word, the user loses no guesses.\n",
        "\n",
        "* Consonants: If the user inputs a consonant that hasn’t been guessed and the consonant is not in the secret word, the user loses one guess if it’s a consonant.\n",
        "* Vowels: If the vowel hasn’t been guessed and the vowel is not in the secret word, the user loses two guesses. Vowels are a, e, i, o, and u. y does not count as a vowel.\n",
        "\n",
        "* The game should end when the user constructs the full word or runs out of guesses.\n",
        "* If the player runs out of guesses before completing the word, tell them they lost and reveal the word to the user when the game ends.\n",
        "* If the user wins, print a congratulatory message and tell the user their score.\n",
        "* The total score is the number of guesses_remaining once the user has guessed the secret_word times the number of unique letters in secret_word.\n",
        "```\n",
        "Total score = guesses_remaining * number unique letters in secret_word\n",
        "```"
      ]
    },
    {
      "attachments": {},
      "cell_type": "markdown",
      "metadata": {
        "id": "NLlYCU26Wtga"
      },
      "source": [
        "## Demo Game 1\n",
        "```\n",
        "Welcome to the game Hangman!\n",
        "I am thinking of a word that is 4 letters long.\n",
        "-------------\n",
        "You have 6 guesses left.\n",
        "Available letters: abcdefghijklmnopqrstuvwxyz\n",
        "Please guess a letter: ​a\n",
        "Good guess: _ a_ _\n",
        "------------\n",
        "You have 6 guesses left.\n",
        "Available letters: bcdefghijklmnopqrstuvwxyz\n",
        "Please guess a letter: ​s\n",
        "Oops! That letter is not in my word.\n",
        "Please guess a letter: _ a_ _\n",
        "------------\n",
        "You have 5 guesses left.\n",
        "Available letters: bcdefghijklmnopqrtuvwxyz\n",
        "Please guess a letter: ​t\n",
        "Good guess: ta_ t\n",
        "------------\n",
        "You have 5 guesses left.\n",
        "Available letters: bcdefghijklmnopqrtuvwxyz\n",
        "Please guess a letter: ​e\n",
        "Oops! That letter is not in my word: ta_ t\n",
        "------------\n",
        "You have 3 guesses left.\n",
        "Available letters: bcdfghijklnopquvwxyz Please guess a letter: ​c\n",
        "Good guess: tact\n",
        "------------\n",
        "Congratulations, you won!\n",
        "Your total score for this game is: 6\n",
        "```"
      ]
    },
    {
      "attachments": {},
      "cell_type": "markdown",
      "metadata": {
        "id": "LvPe95WxWtga"
      },
      "source": [
        "## Demo Game 2\n",
        "```\n",
        "Welcome to the game Hangman!\n",
        "I am thinking of a word that is 4 letters long\n",
        "-----------\n",
        "You have 6 guesses left\n",
        "Available Letters: abcdefghijklmnopqrstuvwxyz\n",
        "Please guess a letter: ​a\n",
        "Oops! That letter is not in my word: _ _ _ _\n",
        "-----------\n",
        "You have 4 guesses left\n",
        "Available Letters: bcdefghijklmnopqrstuvwxyz\n",
        "Please guess a letter: ​b\n",
        "Oops! That letter is not in my word: _ _ _ _\n",
        "-----------\n",
        "You have 3 guesses left\n",
        "Available Letters: cdefghijklmnopqrstuvwxyz\n",
        "Please guess a letter: ​c\n",
        "Oops! That letter is not in my word: _ _ _ _\n",
        "-----------\n",
        "You have 2 guesses left\n",
        "Available Letters: defghijklmnopqrstuvwxyz\n",
        "Please guess a letter: ​d\n",
        "Oops! That letter is not in my word: _ _ _ _\n",
        "-----------\n",
        "You have 1 guesses left\n",
        "Available Letters: efghijklmnopqrstuvwxyz\n",
        "Please guess a letter: ​e\n",
        "Good guess: e_ _ e\n",
        "-----------\n",
        "You have 1 guesses left\n",
        "Available Letters: fghijklmnopqrstuvwxyz\n",
        "Please guess a letter: ​f\n",
        "Oops! That letter is not in my word: e_ _ e\n",
        "-----------\n",
        "Sorry, you ran out of guesses. The word was else.\n",
        "```"
      ]
    },
    {
      "attachments": {},
      "cell_type": "markdown",
      "metadata": {
        "id": "oFs3nV8AWtgb"
      },
      "source": [
        "## Hints\n",
        "**Try to keep the output as similar to the one's above**<br>\n",
        "**Hints:-**\n",
        "```\n",
        "1. Consider writing additional helper functions if you need them.\n",
        "2. There are four important pieces of information you may wish to store:\n",
        "a. secret_word​: The word to guess. This is already used as the parameter name for the ​hangman​ function.\n",
        "b. letters_guessed​: The letters that have been guessed so far. If they guess a letter that is already in ​letters_guessed​, you should print a message telling them they've already guessed that but do not penalize them for it.\n",
        "c. guesses_remaining​: The number of guesses the user has left. Note that in our example game, the penalty for choosing an incorrect vowel is different than the penalty for choosing an incorrect consonant.\n",
        "```"
      ]
    },
    {
      "cell_type": "code",
      "execution_count": 44,
      "metadata": {
        "id": "IlkkRBPFWtgb"
      },
      "outputs": [],
      "source": [
        "\n",
        "def no_of_unique_words(string):\n",
        "    #code here\n",
        "    ans = []\n",
        "    for ch in string:\n",
        "      if ch not in ans:\n",
        "         ans.append(ch)\n",
        "    return \"\".join(ans)\n",
        "    \n",
        "    \n",
        "def hangman(secret_word):\n",
        "    #code here\n",
        "    print(\"Welcome to the game Hangman!\")\n",
        "    print(f\"I am thinking of a word that is {len(secret_word)} letters long.\")\n",
        "\n",
        "    # The user should start with 6 guesses\n",
        "    num_guesses = 6\n",
        "    # letters_guessed: list (of letters), which letters have been guessed so far\n",
        "    letters_guessed = []\n",
        "    # 1st time it will be like: previous_guessed_word = \"_ \"*len(secret_word)\n",
        "    previous_guessed_word = \"_ \"*len(secret_word)\n",
        "    # win flag to completely get out from the loop in Win condition\n",
        "    win = 0\n",
        "    # defining list for vowels\n",
        "    vowels = ['a', 'e', 'i', 'o', 'u']\n",
        "    while num_guesses > 0:\n",
        "      print(\"-\"*50)\n",
        "      print(f\"You have {num_guesses} guesses left.\")\n",
        "      print(f\"Available letters: {get_available_letters(letters_guessed)}\")\n",
        "      while True:\n",
        "        if win:\n",
        "          break\n",
        "        else:\n",
        "          guess = str(input(\"Please guess a letter = \")).lower()\n",
        "          # accepting only single alphabetical character\n",
        "          if len(guess) == 1 and guess.isalpha():\n",
        "            if guess not in letters_guessed:\n",
        "              letters_guessed.append(guess)\n",
        "              # getting current guessed word\n",
        "              current_guessed_word = get_guessed_word(secret_word, letters_guessed)\n",
        "              # Before comparing previous & current guesses, 1st checking if the user already guessed the secret word\n",
        "              if current_guessed_word == secret_word:\n",
        "                win = 1\n",
        "                print()\n",
        "                print(\"*\"*(40))\n",
        "                print(\"Congratulations, you won!!!\".center(40))\n",
        "                # Total score = guesses_remaining * number unique letters in secret_word\n",
        "                Total_score = num_guesses*len(\"\".join(list(set(secret_word))))\n",
        "                print(f\"Your total score for this game is = {Total_score}\".center(40))\n",
        "                print(\"*\"*(40))         \n",
        "                break\n",
        "              # comparing previous & current guess to find if the user gussed any new word of the secret_word \n",
        "              elif previous_guessed_word.count(\"_ \") == current_guessed_word.count(\"_ \"):\n",
        "                print(f\"Oops! That letter is not in my word = '{current_guessed_word}'\")\n",
        "              else:\n",
        "                print(f\"Good guess = '{current_guessed_word}'\")\n",
        "                previous_guessed_word = current_guessed_word\n",
        "                # If the user inputs a letter that hasn’t been guessed before and the letter is in the secret word, the user loses no guesses.\n",
        "                num_guesses+=1\n",
        "#\"apple\" e\n",
        "              # Consonants: If the user inputs a consonant that hasn’t been guessed and the consonant is not in the secret word, the user loses one guess if it’s a consonant.\n",
        "              if guess not in vowels and guess not in secret_word:\n",
        "                num_guesses-=1\n",
        "                break\n",
        "              # Vowels: If the vowel hasn’t been guessed and the vowel is not in the secret word, the user loses two guesses. Vowels are a, e, i, o, and u. y does not count as a vowel.\n",
        "              elif guess in vowels and guess not in secret_word:\n",
        "                num_guesses-=2\n",
        "                break\n",
        "              # decreasing the num_guesses for the wrong guess ***** need to chceck senario for this else condition : it's require to counter/balance in good guess condition\n",
        "              else:\n",
        "                num_guesses-=1\n",
        "                break\n",
        "            elif guess in letters_guessed and guess not in secret_word:\n",
        "              print(\"You've already guessed that letter which not in my word!!!\")\n",
        "            else:\n",
        "              print(\"You've already guessed that letter\")          \n",
        "          else:\n",
        "            print(\"Please enter a valid letter.\")\n",
        "    \n",
        "      if num_guesses == 0:\n",
        "        print()\n",
        "        print(\"*\"*(51+len(secret_word)))\n",
        "        print(f\"* Sorry, you ran out of guesses. The word was '{secret_word}'. *\")\n",
        "        print(\"*\"*(51+len(secret_word)))\n",
        "        break\n",
        "      elif win:\n",
        "        break\n",
        "\n",
        "\n"
      ]
    },
    {
      "cell_type": "code",
      "execution_count": 46,
      "metadata": {
        "colab": {
          "base_uri": "https://localhost:8080/"
        },
        "id": "rqr36B-BWtgb",
        "outputId": "037d554c-6ac8-4f1b-9e58-8ed85540e372"
      },
      "outputs": [
        {
          "name": "stdout",
          "output_type": "stream",
          "text": [
            "Welcome to the game Hangman!\n",
            "I am thinking of a word that is 5 letters long.\n",
            "--------------------------------------------------\n",
            "You have 6 guesses left.\n",
            "Available letters: abcdefghijklmnopqrstuvwxyz\n",
            "Please guess a letter = q\n",
            "Oops! That letter is not in my word = '_ _ _ _ _ '\n",
            "--------------------------------------------------\n",
            "You have 5 guesses left.\n",
            "Available letters: abcdefghijklmnoprstuvwxyz\n",
            "Please guess a letter = u\n",
            "Oops! That letter is not in my word = '_ _ _ _ _ '\n",
            "--------------------------------------------------\n",
            "You have 3 guesses left.\n",
            "Available letters: abcdefghijklmnoprstvwxyz\n",
            "Please guess a letter = r\n",
            "Oops! That letter is not in my word = '_ _ _ _ _ '\n",
            "--------------------------------------------------\n",
            "You have 2 guesses left.\n",
            "Available letters: abcdefghijklmnopstvwxyz\n",
            "Please guess a letter = i\n",
            "Oops! That letter is not in my word = '_ _ _ _ _ '\n",
            "\n",
            "********************************************************\n",
            "* Sorry, you ran out of guesses. The word was 'apple'. *\n",
            "********************************************************\n"
          ]
        }
      ],
      "source": [
        "# When you've completed your hangman function, test it out to see it is working fine\n",
        "# (hint: you might want to pick your own\n",
        "# secret_word while you're doing your own testing by changing 'apple' to any other string)\n",
        "hangman('apple')"
      ]
    },
    {
      "attachments": {},
      "cell_type": "markdown",
      "metadata": {
        "id": "ayutll31Wtgc"
      },
      "source": [
        "## Congratulations all of your hardwork paid of, you have just created the Hangman Game<br>\n",
        "**now go ahead and play the game you created, run the cell below**\n",
        "\n"
      ]
    },
    {
      "cell_type": "code",
      "execution_count": 45,
      "metadata": {
        "colab": {
          "base_uri": "https://localhost:8080/"
        },
        "id": "OXfcylbvWtgc",
        "outputId": "207d2202-4586-41fb-cba1-3b7883b473ea"
      },
      "outputs": [
        {
          "name": "stdout",
          "output_type": "stream",
          "text": [
            "imposter\n",
            "Welcome to the game Hangman!\n",
            "I am thinking of a word that is 8 letters long.\n",
            "--------------------------------------------------\n",
            "You have 6 guesses left.\n",
            "Available letters: abcdefghijklmnopqrstuvwxyz\n",
            "Please guess a letter = u\n",
            "Oops! That letter is not in my word = '_ _ _ _ _ _ _ _ '\n",
            "--------------------------------------------------\n",
            "You have 4 guesses left.\n",
            "Available letters: abcdefghijklmnopqrstvwxyz\n",
            "Please guess a letter = m\n",
            "Good guess = '_ m_ _ _ _ _ _ '\n",
            "--------------------------------------------------\n",
            "You have 4 guesses left.\n",
            "Available letters: abcdefghijklnopqrstvwxyz\n",
            "Please guess a letter = i\n",
            "Good guess = 'im_ _ _ _ _ _ '\n",
            "--------------------------------------------------\n",
            "You have 4 guesses left.\n",
            "Available letters: abcdefghjklnopqrstvwxyz\n",
            "Please guess a letter = p\n",
            "Good guess = 'imp_ _ _ _ _ '\n",
            "--------------------------------------------------\n",
            "You have 4 guesses left.\n",
            "Available letters: abcdefghjklnoqrstvwxyz\n",
            "Please guess a letter = r\n",
            "Good guess = 'imp_ _ _ _ r'\n",
            "--------------------------------------------------\n",
            "You have 4 guesses left.\n",
            "Available letters: abcdefghjklnoqstvwxyz\n",
            "Please guess a letter = s\n",
            "Good guess = 'imp_ s_ _ r'\n",
            "--------------------------------------------------\n",
            "You have 4 guesses left.\n",
            "Available letters: abcdefghjklnoqtvwxyz\n",
            "Please guess a letter = t\n",
            "Good guess = 'imp_ st_ r'\n",
            "--------------------------------------------------\n",
            "You have 4 guesses left.\n",
            "Available letters: abcdefghjklnoqvwxyz\n",
            "Please guess a letter = i\n",
            "You've already guessed that letter\n",
            "Please guess a letter = o\n",
            "Good guess = 'impost_ r'\n",
            "--------------------------------------------------\n",
            "You have 4 guesses left.\n",
            "Available letters: abcdefghjklnqvwxyz\n",
            "Please guess a letter = e\n",
            "\n",
            "****************************************\n",
            "      Congratulations, you won!!!       \n",
            " Your total score for this game is = 32 \n",
            "****************************************\n"
          ]
        }
      ],
      "source": [
        "words = ['army', 'beautiful', 'became', 'if', 'actually', 'beside', 'between','come','eye','five','fur','imposter', 'problem' ,'revenge' ,'few' ,'circle' ,'district','trade','quota','stop','depressed','disorder','dentist']\n",
        "\n",
        "#choose a random word from list using random.choice() function\n",
        "random_word = random.choice(words)\n",
        "# print(random_word)\n",
        "#check you function\n",
        "hangman(random_word)"
      ]
    },
    {
      "attachments": {},
      "cell_type": "markdown",
      "metadata": {
        "id": "62faCBcTWtgc"
      },
      "source": [
        "--------------------------------------\n",
        "Wohooo! You did a really good job. We hope you enjoyed your first mini python project here. \n",
        "\n",
        "We understand it was bit challenging and time taking, but it's worth it, coz here you are to achieve your goal and this course will help you in all posible way to make your dreams come true.\n",
        "\n"
      ]
    },
    {
      "attachments": {},
      "cell_type": "markdown",
      "metadata": {
        "id": "8p3Ruyw6Wtgc"
      },
      "source": [
        "\n",
        "\n",
        "----------------------------------------------------------------------"
      ]
    },
    {
      "attachments": {},
      "cell_type": "markdown",
      "metadata": {
        "id": "JiGSsuwaWtgd"
      },
      "source": [
        "# Bam!, you completed the second milestone challenge too:)!! "
      ]
    }
  ],
  "metadata": {
    "colab": {
      "provenance": []
    },
    "kernelspec": {
      "display_name": "Python 3",
      "language": "python",
      "name": "python3"
    },
    "language_info": {
      "codemirror_mode": {
        "name": "ipython",
        "version": 3
      },
      "file_extension": ".py",
      "mimetype": "text/x-python",
      "name": "python",
      "nbconvert_exporter": "python",
      "pygments_lexer": "ipython3",
      "version": "3.8.5"
    }
  },
  "nbformat": 4,
  "nbformat_minor": 0
}
