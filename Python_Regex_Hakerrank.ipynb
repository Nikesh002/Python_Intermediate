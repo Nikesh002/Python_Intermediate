{
  "cells": [
    {
      "attachments": {},
      "cell_type": "markdown",
      "metadata": {
        "id": "FSjo1RkHwHtF"
      },
      "source": [
        "## <center><u>Regular Expression</u></center>\n",
        "\n",
        "\n",
        "Regular Expression – better known as Regex – is pattern matching. As regular expressions are regular, it means they are used to match well-defined patterns. Regular expression or pattern matching tools identify words and phrases with common patterns.  A typical use case for Regex is find and replace, however as it is not able to understand syntax, grammar, or context, Regex solutions tend to operate on a very small well-defined problem set. Basically, Regex solutions are using pattern matching to merely identify similarities and differences in patterns of words and phrases. They are not able to identify words and phrases taking into consideration syntax, grammar and ultimately context.\n",
        "\n",
        "\n",
        "You will be facing some challenging questions on Regex in this assignment. Below **`following steps`** would help you to complete this assignment:\n",
        "\n",
        "- **`1. Read the question`**\n",
        "- **`2. Go to the link given under the question`**\n",
        "- **`3. You will land on Hakerrank page, if not then create your Hakerrank account.`**\n",
        "- **`4. Once you land on hankerank page mentioned under question, go through the given problem carefully.`**\n",
        "- **`5. Solve it in the editor given in the page. Select python3 as your language in the editor and click 'Run Code' Button`**\n",
        "- **`6. Once you have passed all the sample test cases, write your solution in this assignment against each question, save the file and then submit on portal.`**\n",
        "\n",
        "\n",
        "Regex doc: https://docs.python.org/3/howto/regex.html\n",
        "\n",
        "\n"
      ]
    },
    {
      "attachments": {},
      "cell_type": "markdown",
      "metadata": {
        "id": "0kkaVALuwHtK"
      },
      "source": [
        "#### Q1. Matching string problem\n",
        "\n",
        "https://www.hackerrank.com/challenges/matching-specific-string/problem"
      ]
    },
    {
      "cell_type": "code",
      "execution_count": null,
      "metadata": {
        "id": "jL2M3dqPwbv3"
      },
      "outputs": [],
      "source": [
        "Regex_Pattern = r'hackerrank'\t# Do not delete 'r'.\n",
        "\n",
        "import re\n",
        "\n",
        "Test_String = input()\n",
        "\n",
        "match = re.findall(Regex_Pattern, Test_String)\n",
        "\n",
        "print(\"Number of matches :\", len(match))"
      ]
    },
    {
      "attachments": {},
      "cell_type": "markdown",
      "metadata": {
        "id": "96u-5hSQwHtM"
      },
      "source": [
        "#### Q2 Matching anything\n",
        "\n",
        "link - https://www.hackerrank.com/challenges/matching-anything-but-new-line/problem\n"
      ]
    },
    {
      "cell_type": "code",
      "execution_count": null,
      "metadata": {
        "id": "vLhIrsWgwd-w"
      },
      "outputs": [],
      "source": [
        "regex_pattern = r\"...\\....\\....\\....$\"\t# Do not delete 'r'.\n",
        "\n",
        "import re\n",
        "import sys\n",
        "\n",
        "test_string = input()\n",
        "\n",
        "match = re.match(regex_pattern, test_string) is not None\n",
        "\n",
        "print(str(match).lower())\n"
      ]
    },
    {
      "attachments": {},
      "cell_type": "markdown",
      "metadata": {
        "id": "2r69G5X6wHtN"
      },
      "source": [
        "#### Q3 Matching non digit character\n",
        "\n",
        "link - https://www.hackerrank.com/challenges/matching-digits-non-digit-character/problem"
      ]
    },
    {
      "cell_type": "code",
      "execution_count": null,
      "metadata": {
        "id": "ewXFBXv-whb0"
      },
      "outputs": [],
      "source": [
        "Regex_Pattern = r\"\\d\\d\\D\\d\\d\\D\\d\\d\\d\\d\"\t# Do not delete 'r'.\n",
        "\n",
        "import re\n",
        "\n",
        "print(str(bool(re.search(Regex_Pattern, input()))).lower())"
      ]
    },
    {
      "attachments": {},
      "cell_type": "markdown",
      "metadata": {
        "id": "nAwYC2WWwHtO"
      },
      "source": [
        "#### Q4 matching whitespace - non whitespace\n",
        "\n",
        "\n",
        "link - https://www.hackerrank.com/challenges/matching-whitespace-non-whitespace-character/problem?h_r=next-challenge&h_v=zen\n"
      ]
    },
    {
      "cell_type": "code",
      "execution_count": null,
      "metadata": {
        "id": "u-b0idauwk4k"
      },
      "outputs": [],
      "source": [
        "Regex_Pattern = r\"\\S\\S\\s\\S\\S\\s\\S\\S\"\t# Do not delete 'r'.\n",
        "\n",
        "import re\n",
        "\n",
        "print(str(bool(re.search(Regex_Pattern, input()))).lower())"
      ]
    },
    {
      "attachments": {},
      "cell_type": "markdown",
      "metadata": {
        "id": "BmfTWoPhwHtP"
      },
      "source": [
        "#### Q5 matching start end problem\n",
        "\n",
        "\n",
        "\n",
        "link - https://www.hackerrank.com/challenges/matching-start-end/problem?h_r=next-challenge&h_v=zen&h_r=next-challenge&h_v=zen&h_r=next-challenge&h_v=zen"
      ]
    },
    {
      "cell_type": "code",
      "execution_count": null,
      "metadata": {
        "id": "2YrxQ2htwYYR"
      },
      "outputs": [],
      "source": [
        "# The ^ symbol matches the position at the start of a string.\n",
        "# The $ symbol matches the position at the end of a string.\n",
        "Regex_Pattern = r\"^\\d....\\.$\"\t# Do not delete 'r'.\n",
        "\n",
        "import re\n",
        "\n",
        "print(str(bool(re.search(Regex_Pattern, input()))).lower())\n"
      ]
    },
    {
      "attachments": {},
      "cell_type": "markdown",
      "metadata": {
        "id": "y0zG45zvwHtQ"
      },
      "source": [
        "#### Q6 negative lookbehind\n",
        "\n",
        "link - https://www.hackerrank.com/challenges/negative-lookbehind/problem"
      ]
    },
    {
      "cell_type": "code",
      "execution_count": null,
      "metadata": {
        "id": "Nc8Eh8yHwVO9"
      },
      "outputs": [],
      "source": [
        "Regex_Pattern = r\"(?<![aeiuoAEIOU]).\"\t# Do not delete 'r'.\n",
        "\n",
        "import re\n",
        "\n",
        "Test_String = input()\n",
        "\n",
        "match = re.findall(Regex_Pattern, Test_String)\n",
        "\n",
        "print(\"Number of matches :\", len(match))"
      ]
    },
    {
      "attachments": {},
      "cell_type": "markdown",
      "metadata": {
        "id": "GvFxBjskwHtR"
      },
      "source": [
        "#### Q7 Html attribute problem\n",
        "\n",
        "link - https://www.hackerrank.com/challenges/html-attributes/problem"
      ]
    },
    {
      "cell_type": "code",
      "execution_count": 4,
      "metadata": {
        "colab": {
          "base_uri": "https://localhost:8080/"
        },
        "id": "U-YXLhpGwSXR",
        "outputId": "0c114cba-84c6-4200-ca0e-6fd6e2a66d84"
      },
      "outputs": [
        {
          "name": "stdout",
          "output_type": "stream",
          "text": [
            "2\n",
            "<p><a href=\"http://www.quackit.com/html/tutorial/html_links.cfm\">Example Link</a></p>\n",
            "<div class=\"more-info\"><a href=\"http://www.quackit.com/html/examples/html_links_examples.cfm\">More Link Examples...</a></div>\n",
            "a:href\n",
            "div:class\n",
            "p:\n"
          ]
        }
      ],
      "source": [
        "\n",
        "# import re\n",
        "# # find tag without having attributes\n",
        "# regex = r\"<\\w*[a-zA-Z]+\\w*>\"\n",
        "\n",
        "# test_str = (\"9\\n\"\n",
        "# \t\"<li style=\\\"-moz-float-edge: content-box\\\">... that <a href=\\\"/wiki/Orval_Overall\\\" title=\\\"Orval Overall\\\">Orval Overall</a> <i>(pictured)</i> is the only <b><a href=\\\"/wiki/List_of_Major_League_Baseball_pitchers_who_have_struck_out_four_batters_in_one_inning\\\" title=\\\"List of Major League Baseball pitchers who have struck out four batters in one inning\\\">Major League Baseball player to strike out four batters in one inning</a></b> in the <a href=\\\"/wiki/World_Series\\\" title=\\\"World Series\\\">World Series</a>?</li>\\n\"\n",
        "# \t\"<li style=\\\"-moz-float-edge: content-box\\\">... that the three cities of the <b><a href=\\\"/wiki/West_Triangle_Economic_Zone\\\" title=\\\"West Triangle Economic Zone\\\">West Triangle Economic Zone</a></b> contribute 40% of Western China's GDP?</li>\\n\"\n",
        "# \t\"<li style=\\\"-moz-float-edge: content-box\\\">... that <i><a href=\\\"/wiki/Kismet_(1943_film)\\\" title=\\\"Kismet (1943 film)\\\">Kismet</a></i>, directed by <b><a href=\\\"/wiki/Gyan_Mukherjee\\\" title=\\\"Gyan Mukherjee\\\">Gyan Mukherjee</a></b>, ran at the <a href=\\\"/wiki/Roxy_Cinema_(Kolkata)\\\" title=\\\"Roxy Cinema (Kolkata)\\\">Roxy, Kolkata</a>, for 3 years and 8 months?</li>\\n\"\n",
        "# \t\"<li style=\\\"-moz-float-edge: content-box\\\">... that <a href=\\\"/wiki/Vauix_Carter\\\" title=\\\"Vauix Carter\\\">Vauix Carter</a> both coached and played for the <b><a href=\\\"/wiki/1882_Navy_Midshipmen_football_team\\\" title=\\\"1882 Navy Midshipmen football team\\\">1882 Navy Midshipmen football team</a></b>?</li>\\n\"\n",
        "# \t\"<li style=\\\"-moz-float-edge: content-box\\\">... that <a href=\\\"/wiki/Zhu_Chenhao\\\" title=\\\"Zhu Chenhao\\\">Zhu Chenhao</a> was sentenced to <a href=\\\"/wiki/Slow_slicing\\\" title=\\\"Slow slicing\\\">slow slicing</a> for leading the <b><a href=\\\"/wiki/Prince_of_Ning_rebellion\\\" title=\\\"Prince of Ning rebellion\\\">Prince of Ning rebellion</a></b> against the <a href=\\\"/wiki/Ming_Dynasty\\\" title=\\\"Ming Dynasty\\\">Ming Dynasty</a> <a href=\\\"/wiki/Zhengde_Emperor\\\" title=\\\"Zhengde Emperor\\\">emperor Zhengde</a>?</li>\\n\"\n",
        "# \t\"<li style=\\\"-moz-float-edge: content-box\\\">... that <b><a href=\\\"/wiki/Mirza_Adeeb\\\" title=\\\"Mirza Adeeb\\\">Mirza Adeeb</a></b> was a prominent modern Pakistani <a href=\\\"/wiki/Urdu\\\" title=\\\"Urdu\\\">Urdu</a> playwright whose later work focuses on social problems and daily life?</li>\\n\"\n",
        "# \t\"<li style=\\\"-moz-float-edge: content-box\\\">... that in <i><b><a href=\\\"/wiki/La%C3%9Ft_uns_sorgen,_la%C3%9Ft_uns_wachen,_BWV_213\\\" title=\\\"Lat uns sorgen, lat uns wachen, BWV 213\\\">Die Wahl des Herkules</a></b></i>, Hercules must choose between the good cop and the bad cop?<br style=\\\"clear:both;\\\" />\\n\"\n",
        "# \t\"<div style=\\\"text-align: right;\\\" class=\\\"noprint\\\"><b><a href=\\\"/wiki/Wikipedia:Recent_additions\\\" title=\\\"Wikipedia:Recent additions\\\">Archive</a></b>  <b><a href=\\\"/wiki/Wikipedia:Your_first_article\\\" title=\\\"Wikipedia:Your first article\\\">Start a new article</a></b>  <b><a href=\\\"/wiki/Template_talk:Did_you_know\\\" title=\\\"Template talk:Did you know\\\">Nominate an article</a></b></div>\\n\"\n",
        "# \t\"</li>\"\n",
        "#   \"2\\n\"\n",
        "# \t\"<p><a href=\\\"http://www.quackit.com/html/tutorial/html_links.cfm\\\">Example Link</a></p>\\n\"\n",
        "# \t\"<div class=\\\"more-info\\\"><a href=\\\"http://www.quackit.com/html/examples/html_links_examples.cfm\\\">More Link Examples...</a></div>\"\n",
        "#   )\n",
        "\n",
        "# matches = re.finditer(regex, test_str, re.MULTILINE)\n",
        "# matches_list = []\n",
        "# for match in matches:\n",
        "#   matches_list.append(match.group())\n",
        "\n",
        "# print(set(matches_list))\n",
        "\n",
        "# # find all attributes\n",
        "# import re\n",
        "\n",
        "# regex = r\"\\s(\\w+)=\"\n",
        "\n",
        "# test_str = (\"9\\n\"\n",
        "# \t\"<li style=\\\"-moz-float-edge: content-box\\\">... that <a href=\\\"/wiki/Orval_Overall\\\" title=\\\"Orval Overall\\\">Orval Overall</a> <i>(pictured)</i> is the only <b><a href=\\\"/wiki/List_of_Major_League_Baseball_pitchers_who_have_struck_out_four_batters_in_one_inning\\\" title=\\\"List of Major League Baseball pitchers who have struck out four batters in one inning\\\">Major League Baseball player to strike out four batters in one inning</a></b> in the <a href=\\\"/wiki/World_Series\\\" title=\\\"World Series\\\">World Series</a>?</li>\\n\"\n",
        "# \t\"<li style=\\\"-moz-float-edge: content-box\\\">... that the three cities of the <b><a href=\\\"/wiki/West_Triangle_Economic_Zone\\\" title=\\\"West Triangle Economic Zone\\\">West Triangle Economic Zone</a></b> contribute 40% of Western China's GDP?</li>\\n\"\n",
        "# \t\"<li style=\\\"-moz-float-edge: content-box\\\">... that <i><a href=\\\"/wiki/Kismet_(1943_film)\\\" title=\\\"Kismet (1943 film)\\\">Kismet</a></i>, directed by <b><a href=\\\"/wiki/Gyan_Mukherjee\\\" title=\\\"Gyan Mukherjee\\\">Gyan Mukherjee</a></b>, ran at the <a href=\\\"/wiki/Roxy_Cinema_(Kolkata)\\\" title=\\\"Roxy Cinema (Kolkata)\\\">Roxy, Kolkata</a>, for 3 years and 8 months?</li>\\n\"\n",
        "# \t\"<li style=\\\"-moz-float-edge: content-box\\\">... that <a href=\\\"/wiki/Vauix_Carter\\\" title=\\\"Vauix Carter\\\">Vauix Carter</a> both coached and played for the <b><a href=\\\"/wiki/1882_Navy_Midshipmen_football_team\\\" title=\\\"1882 Navy Midshipmen football team\\\">1882 Navy Midshipmen football team</a></b>?</li>\\n\"\n",
        "# \t\"<li style=\\\"-moz-float-edge: content-box\\\">... that <a href=\\\"/wiki/Zhu_Chenhao\\\" title=\\\"Zhu Chenhao\\\">Zhu Chenhao</a> was sentenced to <a href=\\\"/wiki/Slow_slicing\\\" title=\\\"Slow slicing\\\">slow slicing</a> for leading the <b><a href=\\\"/wiki/Prince_of_Ning_rebellion\\\" title=\\\"Prince of Ning rebellion\\\">Prince of Ning rebellion</a></b> against the <a href=\\\"/wiki/Ming_Dynasty\\\" title=\\\"Ming Dynasty\\\">Ming Dynasty</a> <a href=\\\"/wiki/Zhengde_Emperor\\\" title=\\\"Zhengde Emperor\\\">emperor Zhengde</a>?</li>\\n\"\n",
        "# \t\"<li style=\\\"-moz-float-edge: content-box\\\">... that <b><a href=\\\"/wiki/Mirza_Adeeb\\\" title=\\\"Mirza Adeeb\\\">Mirza Adeeb</a></b> was a prominent modern Pakistani <a href=\\\"/wiki/Urdu\\\" title=\\\"Urdu\\\">Urdu</a> playwright whose later work focuses on social problems and daily life?</li>\\n\"\n",
        "# \t\"<li style=\\\"-moz-float-edge: content-box\\\">... that in <i><b><a href=\\\"/wiki/La%C3%9Ft_uns_sorgen,_la%C3%9Ft_uns_wachen,_BWV_213\\\" title=\\\"Lat uns sorgen, lat uns wachen, BWV 213\\\">Die Wahl des Herkules</a></b></i>, Hercules must choose between the good cop and the bad cop?<br style=\\\"clear:both;\\\" />\\n\"\n",
        "# \t\"<div style=\\\"text-align: right;\\\" class=\\\"noprint\\\"><b><a href=\\\"/wiki/Wikipedia:Recent_additions\\\" title=\\\"Wikipedia:Recent additions\\\">Archive</a></b>  <b><a href=\\\"/wiki/Wikipedia:Your_first_article\\\" title=\\\"Wikipedia:Your first article\\\">Start a new article</a></b>  <b><a href=\\\"/wiki/Template_talk:Did_you_know\\\" title=\\\"Template talk:Did you know\\\">Nominate an article</a></b></div>\\n\"\n",
        "# \t\"</li>\"\n",
        "#   \"2\\n\"\n",
        "# \t\"<p><a href=\\\"http://www.quackit.com/html/tutorial/html_links.cfm\\\">Example Link</a></p>\\n\"\n",
        "# \t\"<div class=\\\"more-info\\\"><a href=\\\"http://www.quackit.com/html/examples/html_links_examples.cfm\\\">More Link Examples...</a></div>\"\n",
        "#   )\n",
        "\n",
        "# matches = re.finditer(regex, test_str, re.MULTILINE)\n",
        "# matches_list = []\n",
        "# for match in matches:\n",
        "#   matches_list.append(match.group())\n",
        "\n",
        "# print(set(matches_list))\n",
        "\n",
        "\n",
        "\n",
        "# # The code shared by you in Solution Video is throwing 'Runtime Error :(' for Test code \n",
        "# # Your Output (stdout)\n",
        "# # ~ no response on stdout ~\n",
        "# import re\n",
        "# from collections import defaultdict\n",
        "\n",
        "# tag_regex = re.compile(r\"<(\\w+).*?>\")\n",
        "# attrs_regex = re.compile(r\"\\s(\\w+)=\")\n",
        "# output = defaultdict(set)\n",
        "\n",
        "# for _ in range(int(input())):\n",
        "#     for i in tag_regex.finditer(input()):\n",
        "#         attrs = attrs_regex.findall(i.group(0))\n",
        "#         output[i.group(1)].update(attrs)\n",
        "        \n",
        "# for k,v in sorted(output.item()):\n",
        "#     print(f\"{k}:{','.join(sorted(v))}\")\n",
        "\n",
        "# working solution\n",
        "import re\n",
        "tagx = re.compile(r'<\\s*(?P<tag>\\w+)(?:\\s+(?P<attrs>[^>]*))?>')\n",
        "attx = re.compile(r'''(\\w+)=[\"'][^\"']*[\"']''')\n",
        "result = dict()\n",
        "\n",
        "for each in range(int(input())):\n",
        "    for tagm in tagx.finditer(input()):\n",
        "        if tagm.group('tag') not in result:\n",
        "            result[tagm.group('tag')] = set()\n",
        "        if tagm.group('attrs'):\n",
        "            result[tagm.group('tag')].update(attx.findall(tagm.group('attrs')))\n",
        "\n",
        "for tag in sorted(result):\n",
        "    print('{}:{}'.format(tag, ','.join(sorted(result[tag]))))"
      ]
    },
    {
      "attachments": {},
      "cell_type": "markdown",
      "metadata": {
        "id": "AnyIRWVNwHtR"
      },
      "source": [
        "#### Q8 detect html tags\n",
        "\n",
        "link - https://www.hackerrank.com/challenges/detect-html-tags/problem\n"
      ]
    },
    {
      "cell_type": "code",
      "execution_count": null,
      "metadata": {
        "id": "TVM2MPcZwowT"
      },
      "outputs": [],
      "source": [
        "# It was a great experience to solve this\n",
        "import re\n",
        "\n",
        "tag_regex = re.compile(r\"<\\w*([a-zA-Z]+)\\w*>|<([a-zA-Z]+) [a-zA-Z]+=\")\n",
        "str1 = \"\"\n",
        "for i in range(int(input())):\n",
        "    for match in tag_regex.finditer(input()):\n",
        "      str1 += match.group()\n",
        "\n",
        "tag_regex = re.compile(r\"<(\\w+)\")\n",
        "tags = re.findall(tag_regex, str1) \n",
        "    \n",
        "print(\";\".join(sorted(list(set(tags)))))"
      ]
    },
    {
      "attachments": {},
      "cell_type": "markdown",
      "metadata": {
        "id": "u7G_61dNwHtS"
      },
      "source": [
        "#### Q9 final substring problem\n",
        "\n",
        "link - https://www.hackerrank.com/challenges/find-substring/problem\n"
      ]
    },
    {
      "cell_type": "code",
      "execution_count": null,
      "metadata": {
        "id": "H7HfMdAmwrV0"
      },
      "outputs": [],
      "source": [
        "\n",
        "import re\n",
        "l=[]\n",
        "for _ in range(int(input())):\n",
        "    sentence = input()\n",
        "    l.append(sentence)\n",
        "string = '\\n'.join(l)\n",
        "for i in range(int(input())):       \n",
        "       pattern = r'\\w+{}\\w+'.format(input())\n",
        "       match = re.findall(pattern,string)\n",
        "       print(len(match))"
      ]
    },
    {
      "attachments": {},
      "cell_type": "markdown",
      "metadata": {
        "id": "o2t6Cf8wwHtT"
      },
      "source": [
        "#### Q 10 Alien username\n",
        "\n",
        "link - https://www.hackerrank.com/challenges/alien-username/problem"
      ]
    },
    {
      "cell_type": "code",
      "execution_count": null,
      "metadata": {
        "id": "gXoOLapuwuDz"
      },
      "outputs": [],
      "source": [
        "import re\n",
        "regex = re.compile(r\"^[_.][0-9]+[a-zA-Z]*[_]$|^[_.][0-9]+[a-zA-Z]*$\")\n",
        "\n",
        "for _ in range(int(input())):\n",
        "    print( \"VALID\" if regex.match(input()) else \"INVALID\")"
      ]
    },
    {
      "attachments": {},
      "cell_type": "markdown",
      "metadata": {
        "id": "BnGmmBnwwHtT"
      },
      "source": [
        "#### Q11 ip address validation\n",
        "\n",
        "link - https://www.hackerrank.com/challenges/ip-address-validation/problem"
      ]
    },
    {
      "cell_type": "code",
      "execution_count": null,
      "metadata": {
        "id": "gBwwV5nbwwxo"
      },
      "outputs": [],
      "source": [
        "# Enter your code here. Read input from STDIN. Print output to STDOUT\n",
        "# import re\n",
        "\n",
        "# ipv4 = re.compile(\"^\\d{1,3}.\\d{1,3}.\\d{1,3}.\\d{1,3}$\")\n",
        "# ipv6 = re.compile(\"^(([0-9a-fA-F]{1,4}:){7,7}[0-9a-fA-F]{1,4}|([0-9a-fA-F]{1,4}:){1,7}:|([0-9a-fA-F]{1,4}:){1,6}:[0-9a-fA-F]{1,4}|([0-9a-fA-F]{1,4}:){1,5}(:[0-9a-fA-F]{1,4}){1,2}|([0-9a-fA-F]{1,4}:){1,4}(:[0-9a-fA-F]{1,4}){1,3}|([0-9a-fA-F]{1,4}:){1,3}(:[0-9a-fA-F]{1,4}){1,4}|([0-9a-fA-F]{1,4}:){1,2}(:[0-9a-fA-F]{1,4}){1,5}|[0-9a-fA-F]{1,4}:((:[0-9a-fA-F]{1,4}){1,6})|:((:[0-9a-fA-F]{1,4}){1,7}|:)|fe80:(:[0-9a-fA-F]{0,4}){0,4}%[0-9a-zA-Z]{1,}|::(ffff(:0{1,4}){0,1}:){0,1}((25[0-5]|(2[0-4]|1{0,1}[0-9]){0,1}[0-9])\\.){3,3}(25[0-5]|(2[0-4]|1{0,1}[0-9]){0,1}[0-9])|([0-9a-fA-F]{1,4}:){1,4}:((25[0-5]|(2[0-4]|1{0,1}[0-9]){0,1}[0-9])\\.){3,3}(25[0-5]|(2[0-4]|1{0,1}[0-9]){0,1}[0-9]))\")\n",
        "\n",
        "# for _ in range(int(input())):\n",
        "#     input_str = input()\n",
        "#     if ipv4.match(input_str):\n",
        "#         print(\"IPv4\")\n",
        "#     elif ipv6.match(input_str):\n",
        "#         print(\"IPv6\")\n",
        "#     else:\n",
        "#         print(\"Neither\")\n",
        "\n",
        "        \n",
        "import re\n",
        "\n",
        "ipv4 = '^{0}\\.{0}\\.{0}\\.{0}$'.format(r'(\\d\\d?|1\\d\\d|2[0-4]\\d|25[0-5])')\n",
        "ipv6 = '^{0}:{0}:{0}:{0}:{0}:{0}:{0}:{0}$'.format(r'([\\da-f]{1,4})')\n",
        "ipv4_pattern = re.compile(ipv4)\n",
        "ipv6_pattern = re.compile(ipv6, flags=re.I)\n",
        "\n",
        "for each in range(int(input())):\n",
        "    addr = input().strip()\n",
        "    if ipv4_pattern.match(addr):\n",
        "        print('IPv4')\n",
        "    elif ipv6_pattern.match(addr):\n",
        "        print('IPv6')\n",
        "    else:\n",
        "        print('Neither')"
      ]
    },
    {
      "attachments": {},
      "cell_type": "markdown",
      "metadata": {
        "id": "D8mN4d5_wHtU"
      },
      "source": [
        "\n",
        "#### Q 12 find a word problem\n",
        "\n",
        "link - https://www.hackerrank.com/challenges/find-a-word/problem\n"
      ]
    },
    {
      "cell_type": "code",
      "execution_count": null,
      "metadata": {
        "id": "C8mbWsWdwz6O"
      },
      "outputs": [],
      "source": [
        "import re\n",
        "\n",
        "n = int(input())\n",
        "text = \"\\n\".join(input() for _ in range(n))\n",
        "\n",
        "for _ in range(int(input())):\n",
        "    regex = re.compile(rf\"(?<![\\w]){input()}(?![\\w])\")    \n",
        "    print(len(regex.findall(text)))"
      ]
    },
    {
      "attachments": {},
      "cell_type": "markdown",
      "metadata": {
        "id": "tYt22wTJwHtU"
      },
      "source": [
        "#### Q13 detect the email address\n",
        "\n",
        "link - https://www.hackerrank.com/challenges/detect-the-email-addresses/problem"
      ]
    },
    {
      "cell_type": "code",
      "execution_count": null,
      "metadata": {
        "id": "3H8Yy3YTw2P-"
      },
      "outputs": [],
      "source": [
        "import re\n",
        "\n",
        "regx = re.compile(r'\\w+(?:\\.\\w+)*@\\w+(?:\\.\\w+)*')\n",
        "\n",
        "text = \"\\n\".join([input() for _ in range(int(input()))])\n",
        "    \n",
        "matches = regx.findall(text)\n",
        "print(';'.join(sorted(set(matches))))\n"
      ]
    },
    {
      "attachments": {},
      "cell_type": "markdown",
      "metadata": {
        "id": "kqfXJBm6wHtU"
      },
      "source": [
        "Q14 detect the domain problem\n",
        "\n",
        "link - https://www.hackerrank.com/challenges/detect-the-domain-name/problem"
      ]
    },
    {
      "cell_type": "code",
      "execution_count": null,
      "metadata": {
        "id": "YB7UCwwsw4-Q"
      },
      "outputs": [],
      "source": [
        "\n",
        "import re\n",
        "print(';'.join(sorted(set(re.findall(r'https?:\\/\\/([\\w\\.\\-]{3,})[\\/|\\?|\\\"]',((' '.join(input() for _ in range(int(input())))).replace('www.','')).replace('ww2.',''))))))\n"
      ]
    },
    {
      "attachments": {},
      "cell_type": "markdown",
      "metadata": {
        "id": "dUm16gwFwHtV"
      },
      "source": [
        "#### Q15 ide challenge\n",
        "\n",
        "link - https://www.hackerrank.com/challenges/ide-identifying-comments/problem"
      ]
    },
    {
      "cell_type": "code",
      "execution_count": null,
      "metadata": {
        "id": "IdrLo4VUw7dV"
      },
      "outputs": [],
      "source": [
        "import re \n",
        "code=input()\n",
        "while True:\n",
        "    try:\n",
        "        code+='\\n'+input()\n",
        "    except:\n",
        "        break\n",
        "pat=r'//.*|/\\*[\\S\\n ]+?\\*/|/\\*\\*[\\S\\n ]+?\\*\\*/'\n",
        "arr=re.findall(pat,code)\n",
        "for i in arr:\n",
        "    if '\\n' in i:\n",
        "        for j in i.split('\\n'):\n",
        "            print(j.strip())\n",
        "    else:\n",
        "        print(i.strip())\n"
      ]
    },
    {
      "attachments": {},
      "cell_type": "markdown",
      "metadata": {
        "id": "nODVXXxdwHtV"
      },
      "source": [
        "#### Q16 programming language detection problem\n",
        "\n",
        "link - https://www.hackerrank.com/challenges/programming-language-detection/problem"
      ]
    },
    {
      "cell_type": "code",
      "execution_count": null,
      "metadata": {
        "id": "oQ2Zyx_0w9_a"
      },
      "outputs": [],
      "source": [
        "import re,sys\n",
        "\n",
        "data = sys.stdin.read()\n",
        "isJava = re.search('import java',data)\n",
        "isC = re.search('#include',data)\n",
        "if isJava: print('Java')\n",
        "elif isC: print('C')\n",
        "else: print('Python')"
      ]
    },
    {
      "attachments": {},
      "cell_type": "markdown",
      "metadata": {
        "id": "yTdfWG8VwHtV"
      },
      "source": [
        "\n",
        "---------------------------------\n",
        "\n",
        "# \"Holly jolly\":) Congratulations! you have completed the REGEX assignment. \n",
        "\n",
        "--------------------------------\n"
      ]
    }
  ],
  "metadata": {
    "colab": {
      "provenance": []
    },
    "kernelspec": {
      "display_name": "Python 3",
      "language": "python",
      "name": "python3"
    },
    "language_info": {
      "codemirror_mode": {
        "name": "ipython",
        "version": 3
      },
      "file_extension": ".py",
      "mimetype": "text/x-python",
      "name": "python",
      "nbconvert_exporter": "python",
      "pygments_lexer": "ipython3",
      "version": "3.8.5"
    }
  },
  "nbformat": 4,
  "nbformat_minor": 0
}
