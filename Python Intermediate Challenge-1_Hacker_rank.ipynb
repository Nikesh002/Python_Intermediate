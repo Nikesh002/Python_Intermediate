{
  "cells": [
    {
      "attachments": {},
      "cell_type": "markdown",
      "metadata": {
        "id": "ZoIiQN4Aosx_"
      },
      "source": [
        "## <center><u>Python Intermediate Challenge-1</u></center>\n",
        "\n",
        "\n",
        "54% of the respondents from the O'Reilly Data Science Salary Survey indicated that they used Python as a data science tool. Nobody can deny that Python has been on the rise in the data science industry and it certainly seems that it's here to stay.\n",
        "This rise in popularity in the industry, the long gone infancy of Python packages for data analysis, the low and gradual learning curve and the fact that it is a fully fledged programming language are only a couple of reasons that make Python an exceptional tool for data science.\n",
        "Although Python is a very readable language, you might still be able to use some help.\n",
        "\n",
        "You will be facing some challenging questions on python in this assignment. Below following steps would help you to complete this assignment:\n",
        "\n",
        "`1. Read the question\n",
        "2. Go to the link given under the question\n",
        "3. You will land on Hakerrank page, if not then create your Hakerrank account.\n",
        "4. Once you land on hankerank page mentioned under question, go through the given problem carefully.\n",
        "5. Solve it in the editor given in the page. Select python3 as your language in the editor and click 'Run Code' Button\n",
        "6. Once you have passed all the sample test cases, write your solution in this assignment against each question.`\n",
        "\n",
        "\n",
        "If you need any assistence on python, then please refer below cheatsheets:\n",
        "\n",
        "Cheatsheet reference: http://datacamp-community-prod.s3.amazonaws.com/0eff0330-e87d-4c34-88d5-73e80cb955f2\n",
        "\n",
        "\n",
        "\n",
        "    "
      ]
    },
    {
      "attachments": {},
      "cell_type": "markdown",
      "metadata": {
        "id": "OeNzQ3n4osyF"
      },
      "source": [
        "#### Q1 Python If-Else\n",
        "\n",
        "link - https://www.hackerrank.com/challenges/py-if-else/problem"
      ]
    },
    {
      "cell_type": "code",
      "execution_count": null,
      "metadata": {
        "id": "ezI2X_SIosyG"
      },
      "outputs": [],
      "source": [
        "#!/bin/python3\n",
        "\n",
        "import math\n",
        "import os\n",
        "import random\n",
        "import re\n",
        "import sys\n",
        "\n",
        "\n",
        "\n",
        "if __name__ == '__main__':\n",
        "    n = int(input().strip())\n",
        "    if n%2:\n",
        "        print(\"Weird\")\n",
        "    else:\n",
        "        if 2 <= n <= 5:\n",
        "            print(\"Not Weird\")\n",
        "        elif 6 <= n <= 20:\n",
        "            print(\"Weird\")\n",
        "        elif n > 20:\n",
        "            print(\"Not Weird\")\n"
      ]
    },
    {
      "attachments": {},
      "cell_type": "markdown",
      "metadata": {
        "id": "0Zrc9TpKosyH"
      },
      "source": [
        "#### Q2 Arithmetic Operators\n",
        "\n",
        "link - https://www.hackerrank.com/challenges/python-arithmetic-operators/problem"
      ]
    },
    {
      "cell_type": "code",
      "execution_count": null,
      "metadata": {
        "id": "siHln9q3osyH"
      },
      "outputs": [],
      "source": [
        "if __name__ == '__main__':\n",
        "    a = int(input())\n",
        "    b = int(input())\n",
        "    print(a+b)\n",
        "    print(a-b)\n",
        "    print(a*b)\n"
      ]
    },
    {
      "attachments": {},
      "cell_type": "markdown",
      "metadata": {
        "id": "jnKHHn8JosyI"
      },
      "source": [
        "#### Q3 Print Function\n",
        "\n",
        "link - https://www.hackerrank.com/challenges/python-print/problem"
      ]
    },
    {
      "cell_type": "code",
      "execution_count": null,
      "metadata": {
        "id": "9Bwv7SZPosyI"
      },
      "outputs": [],
      "source": [
        "\n",
        "if __name__ == '__main__':\n",
        "    n = int(input())\n",
        "    for i in range(1,n+1):\n",
        "        print(i,end=\"\")\n"
      ]
    },
    {
      "attachments": {},
      "cell_type": "markdown",
      "metadata": {
        "id": "x7kHeSvIosyJ"
      },
      "source": [
        "#### Q4 Write a function\n",
        "\n",
        "link - https://www.hackerrank.com/challenges/write-a-function/problem"
      ]
    },
    {
      "cell_type": "code",
      "execution_count": null,
      "metadata": {
        "id": "mZIzOCvrosyJ"
      },
      "outputs": [],
      "source": [
        "\n",
        "def is_leap(year):\n",
        "    leap = False\n",
        "    \n",
        "    # Write your logic here\n",
        "    leap = False\n",
        "    \n",
        "    # Write your logic here\n",
        "    if year % 400 == 0:\n",
        "        leap = True\n",
        "    elif year % 100 == 0:\n",
        "        leap = False\n",
        "    elif year % 4 == 0:\n",
        "        leap = True\n",
        "    \n",
        "    return leap\n",
        "\n",
        "year = int(input())\n",
        "print(is_leap(year))\n",
        "\n"
      ]
    },
    {
      "attachments": {},
      "cell_type": "markdown",
      "metadata": {
        "id": "6id3G7GrosyK"
      },
      "source": [
        "#### Q5 List Comprehensions\n",
        "\n",
        "link - https://www.hackerrank.com/challenges/list-comprehensions/problem"
      ]
    },
    {
      "cell_type": "code",
      "execution_count": null,
      "metadata": {
        "id": "gJLvcKFcosyK"
      },
      "outputs": [],
      "source": [
        "if __name__ == '__main__':\n",
        "    x = int(input())\n",
        "    y = int(input())\n",
        "    z = int(input())\n",
        "    n = int(input())\n",
        "    # array = []\n",
        "    # for i in range(0,x+1):\n",
        "    #     for j in range(0,y+1):\n",
        "    #         for k in range(0,z+1):\n",
        "    #             if i+j+k != n:\n",
        "    #                 array.append([i,j,k])\n",
        "    # print(array)\n",
        "    \n",
        "    print([[i,j,k] for i in range(0,x+1) for j in range(0,y+1) for k in range(0,z+1) if i+j+k != n])\n"
      ]
    },
    {
      "attachments": {},
      "cell_type": "markdown",
      "metadata": {
        "id": "PUwEWPORosyK"
      },
      "source": [
        "#### Q6 Find the Runner-Up Score!\n",
        "\n",
        "link - https://www.hackerrank.com/challenges/find-second-maximum-number-in-a-list/problem"
      ]
    },
    {
      "cell_type": "code",
      "execution_count": null,
      "metadata": {
        "id": "kFSRC6fQosyL"
      },
      "outputs": [],
      "source": [
        "if __name__ == '__main__':\n",
        "    n = int(input())\n",
        "    arr = map(int, input().split())\n",
        "    arr = list(set(sorted(arr)))\n",
        "    \n",
        "    res1=[]\n",
        "    res2=[]\n",
        "    # first I am separating & sorting the +ve & -ve list\n",
        "    for i in arr:\n",
        "        if(i>0):\n",
        "            res1.append(i)\n",
        "        else:\n",
        "            res2.append(i)\n",
        "    res1.sort(reverse=True)\n",
        "    res2.sort(reverse=True)\n",
        "    # printing 2nd max num\n",
        "    if len(res1) > 1:\n",
        "        print(res1[1])\n",
        "    elif len(res1) == 1:\n",
        "        print(res2[0])\n",
        "    else:\n",
        "        print(res2[1])\n",
        "\n",
        "# a = list(set(arr))\n",
        "# a.sort()\n",
        "# print(a[-2])"
      ]
    },
    {
      "attachments": {},
      "cell_type": "markdown",
      "metadata": {
        "id": "OIidmlybosyL"
      },
      "source": [
        "#### Q7 Nested Lists\n",
        "\n",
        "link - https://www.hackerrank.com/challenges/nested-list/problem"
      ]
    },
    {
      "cell_type": "code",
      "execution_count": null,
      "metadata": {
        "id": "y03WJ-DVosyL"
      },
      "outputs": [],
      "source": [
        "if __name__ == '__main__':\n",
        "    stud = []\n",
        "    for _ in range(int(input())):\n",
        "        name = input()\n",
        "        score = float(input())\n",
        "        stud.append([name,score])\n",
        "    \n",
        "    score_set = set()\n",
        "    # get the 2nd lowest \n",
        "    for score in range(0, len(stud)):\n",
        "        score_set.add(stud[score][1])\n",
        "    score_list = list(score_set)\n",
        "    score_list.sort()\n",
        "    second_low_grade = score_list[1]\n",
        "    \n",
        "    # get the 2nd lowest scorer stud\n",
        "    second_low_grade_stud = []\n",
        "    for i in range(0, len(stud)):\n",
        "        if  second_low_grade == stud[i][1]:\n",
        "            second_low_grade_stud.append(stud[i][0])       \n",
        "\n",
        "    # print the scores  \n",
        "    second_low_grade_stud.sort()\n",
        "    for stud in second_low_grade_stud:\n",
        "        print(stud)\n"
      ]
    },
    {
      "attachments": {},
      "cell_type": "markdown",
      "metadata": {
        "id": "Z7ZvOC4TosyM"
      },
      "source": [
        "#### Q8 Finding the percentage\n",
        "\n",
        "link - https://www.hackerrank.com/challenges/finding-the-percentage/problem"
      ]
    },
    {
      "cell_type": "code",
      "execution_count": null,
      "metadata": {
        "id": "W8OlBRO1osyM"
      },
      "outputs": [],
      "source": [
        "\n",
        "if __name__ == '__main__':\n",
        "    n = int(input())\n",
        "    student_marks = {}\n",
        "    student_avg = {}\n",
        "    for _ in range(n):\n",
        "        name, *line = input().split()\n",
        "        scores = list(map(float, line))\n",
        "        student_marks[name] = scores\n",
        "        student_avg[name] = sum(scores)/len(scores)\n",
        "    query_name = input()\n",
        "    if query_name in student_avg.keys():\n",
        "        print(\"{0:.2f}\".format(student_avg.get(query_name)))\n",
        "\n",
        "\"\"\"\n",
        "if __name__ == '__main__':\n",
        "    n = int(input())\n",
        "    student_marks = {}\n",
        "    for _ in range(n):\n",
        "        name, *line = input().split()\n",
        "        scores = list(map(float, line))\n",
        "        student_marks[name] = scores\n",
        "    query_name = input()\n",
        "    print(\"%.2f\" % (sum(student_marks[query_name])/len(student_marks[query_name])))\n",
        "\"\"\"\n"
      ]
    },
    {
      "attachments": {},
      "cell_type": "markdown",
      "metadata": {
        "id": "HaKJSbBPosyM"
      },
      "source": [
        "#### Q9 Lists\n",
        "\n",
        "link - https://www.hackerrank.com/challenges/python-lists/problem"
      ]
    },
    {
      "cell_type": "code",
      "execution_count": null,
      "metadata": {
        "id": "pwLpk9bdosyM"
      },
      "outputs": [],
      "source": [
        "\n",
        "if __name__ == '__main__':\n",
        "    N = int(input())\n",
        "    lst = []\n",
        "    for i in range(N):\n",
        "        arr = map(str, input().split())\n",
        "        arr = list(arr)\n",
        "        if len(arr) > 1:\n",
        "            for i in range(1,len(arr)):\n",
        "                if arr[i].isdigit():\n",
        "                    arr[i] = int(arr[i])\n",
        "        if arr[0].lower() == 'insert':\n",
        "            lst.insert(arr[1],arr[2])\n",
        "        elif arr[0].lower() == 'print':\n",
        "            print(lst)\n",
        "        elif arr[0].lower() == 'remove':\n",
        "            lst.remove(arr[1])\n",
        "        elif arr[0].lower() == 'append':\n",
        "            lst.append(arr[1])\n",
        "        elif arr[0].lower() == 'sort':\n",
        "            lst.sort()\n",
        "        elif arr[0].lower() == 'pop':\n",
        "            lst.pop()\n",
        "        elif arr[0].lower() == 'reverse':\n",
        "            lst.reverse()\n"
      ]
    },
    {
      "attachments": {},
      "cell_type": "markdown",
      "metadata": {
        "id": "pYvWcf5wosyN"
      },
      "source": [
        "#### Q10 Tuples\n",
        "\n",
        "\n",
        "link - https://www.hackerrank.com/challenges/python-tuples/problem"
      ]
    },
    {
      "cell_type": "code",
      "execution_count": null,
      "metadata": {
        "id": "M5dVp7W2osyN"
      },
      "outputs": [],
      "source": [
        "# Note : it should run in 'Pypy3' to get expected result\n",
        "if __name__ == '__main__':\n",
        "    n = int(input())\n",
        "    integer_list = map(int, input().split())\n",
        "    t = tuple(integer_list)\n",
        "print(hash(t))\n"
      ]
    },
    {
      "attachments": {},
      "cell_type": "markdown",
      "metadata": {
        "id": "SfNKkr_NosyN"
      },
      "source": [
        "#### Q11 The Minion Game\n",
        "\n",
        "link - https://www.hackerrank.com/challenges/the-minion-game/problem"
      ]
    },
    {
      "cell_type": "code",
      "execution_count": null,
      "metadata": {
        "id": "A4B0_6vxosyN"
      },
      "outputs": [],
      "source": [
        "\n",
        "\n",
        "# def get_consonants_substr(string):\n",
        "#     holder = []\n",
        "#     for ix, elem in enumerate(string):\n",
        "#         if elem not in \"AEIOU\":\n",
        "#             for r in range(len(string[ix:])):\n",
        "#                 holder.append(string[ix:ix+r+1])\n",
        "#     return holder\n",
        "\n",
        "# def get_vowels_substr(string):\n",
        "#     holder = []\n",
        "#     for ix, elem in enumerate(string):\n",
        "#         if elem in \"AEIOU\":\n",
        "#             for r in range(len(string[ix:])):\n",
        "#                 holder.append(string[ix:ix+r+1])\n",
        "#     return holder\n",
        "\n",
        "def minion_game(string):\n",
        "    # your code goes here\n",
        "    # Stuart_consonants_words = get_consonants_substr(string)\n",
        "    # Kevin_vowels_words = get_vowels_substr(string)\n",
        "    # Stuart_score = len(Stuart_consonants_words)\n",
        "    # Kevin_score = len(Kevin_vowels_words)\n",
        "    # if Stuart_score == Kevin_score:\n",
        "    #     print(\"Draw\")\n",
        "    # elif Stuart_score > Kevin_score:\n",
        "    #     print(f\"Stuart {Stuart_score}\")\n",
        "    # else:\n",
        "    #     print(f\"Kevin {Kevin_score}\")\n",
        "    stuart=0\n",
        "    kevin=0\n",
        "    vowels=['A','E','I','O','U']\n",
        "    for i in range(len(string)):\n",
        "        if(string[i] in vowels):\n",
        "            kevin+=len(string)-i # count of all possible vowels sub-strings\n",
        "        else:\n",
        "            stuart+=len(string)-i # count of all possible consonants sub-strings\n",
        "    if(kevin>stuart):\n",
        "        print(f\"Kevin {kevin}\")\n",
        "    elif(kevin<stuart):\n",
        "        print(f\"Stuart {stuart}\")\n",
        "    else:\n",
        "        print(\"Draw\")\n",
        "\n",
        "if __name__ == '__main__':\n",
        "    s = input()\n",
        "    minion_game(s)\n",
        "\"\"\"\n",
        "Explanation:\n",
        "\n",
        "BANANA\n",
        "\n",
        "B BA BAN BANA BANAN BANANA 6 = LENGTH-0\n",
        "A AN ANA ANAN ANANA 5 = LENGTH-1\n",
        "N NA NAN NANA 4 = LENGTH-2\n",
        "A AN ANA 3 = LENGTH-3\n",
        "N NA 2 = LENGTH-4\n",
        "A 1 = LENGTH-5\n",
        "The way I visualized this is to list all the possible substrings vertically/sequentially and in increasing order: so first column is individual letters of the word banana, second column are 2 letter substring (ba, an, etc.), third column are 3 letter substring, etc. resulting in the listing above.\n",
        "\n",
        "This can be also seen as each letter growing towards the full word or the remaining part of the word, and each added letter can be thought of as a 'child' substring of the parent letter.\n",
        "\n",
        "The pattern here is starting from the first letter of the string, the largest length of the string is equal to the number of substrings, and for each subsequent letter of the string, the largest string length (and number of substrings) is shorter by 1.\n",
        "\"\"\"\n",
        "\n",
        "\n",
        "\n",
        "\n",
        "\n"
      ]
    },
    {
      "attachments": {},
      "cell_type": "markdown",
      "metadata": {
        "id": "brZrQDi7osyO"
      },
      "source": [
        "#### Q12 Designer door mat\n",
        "\n",
        "link - https://www.hackerrank.com/challenges/designer-door-mat/problem"
      ]
    },
    {
      "cell_type": "code",
      "execution_count": null,
      "metadata": {
        "id": "_ZpfmCeMosyO"
      },
      "outputs": [],
      "source": [
        "# Enter your code here. Read input from STDIN. Print output to STDOUT\n",
        "arr = map(int, input().split())\n",
        "arr = list(arr)\n",
        "n = arr[0]\n",
        "m = arr[1]\n",
        "\n",
        "# no of lines before/after Welcome word = round(n/2-0.5)\n",
        "# \".|.\".center(m, '-')\n",
        "\n",
        "# before \"Welcome\" word pattern \n",
        "dot_dash_odd = 1\n",
        "for i in range(round(n/2-0.5)):\n",
        "    dot_dash_dot_pat = \".|.\"*(dot_dash_odd)\n",
        "    dot_dash_odd+=2\n",
        "    print(dot_dash_dot_pat.center(m, '-'))\n",
        "    \n",
        "# print \"Welcome\" word  \n",
        "print(\"WELCOME\".center(m,\"-\"))\n",
        "\n",
        "# after \"Welcome\" word pattern \n",
        "dot_dash_odd-=2\n",
        "for i in range(round(n/2-0.5)):\n",
        "    dot_dash_dot_pat = \".|.\"*(dot_dash_odd)\n",
        "    dot_dash_odd-=2\n",
        "    print(dot_dash_dot_pat.center(m, '-'))\n",
        "\n"
      ]
    },
    {
      "attachments": {},
      "cell_type": "markdown",
      "metadata": {
        "id": "3lf-WAe9osyO"
      },
      "source": [
        "#### Q13 Merge the tools\n",
        "\n",
        "link - https://www.hackerrank.com/challenges/merge-the-tools/problem"
      ]
    },
    {
      "cell_type": "code",
      "execution_count": null,
      "metadata": {
        "id": "q2cVVFwLosyO"
      },
      "outputs": [],
      "source": [
        "def merge_the_tools(string, k):\n",
        "    # your code goes here\n",
        "    n = len(string)\n",
        "    no_substrings = round(n/k)\n",
        "\n",
        "    for i in range(0,n,k):\n",
        "        ti = string[i:i+k]\n",
        "        ui = \"\"\n",
        "        for w in ti:\n",
        "            if w not in ui:\n",
        "                ui+=w\n",
        "        print(ui)\n",
        "\n",
        "\n",
        "if __name__ == '__main__':\n",
        "    string, k = input(), int(input())\n",
        "    merge_the_tools(string, k)\n"
      ]
    },
    {
      "attachments": {},
      "cell_type": "markdown",
      "metadata": {
        "id": "MYlrthqcosyP"
      },
      "source": [
        "#### Q14 find a string\n",
        "\n",
        "link - https://www.hackerrank.com/challenges/find-a-string/problem"
      ]
    },
    {
      "cell_type": "code",
      "execution_count": null,
      "metadata": {
        "id": "HUCPhcNwosyP"
      },
      "outputs": [],
      "source": [
        "\n",
        "def count_substring(string, sub_string):\n",
        "    n = len(sub_string)\n",
        "    count = 0\n",
        "    for i in range(len(string)):\n",
        "        if sub_string == string[i:i+n]:\n",
        "            count+=1\n",
        "    return count\n",
        "\n",
        "if __name__ == '__main__':\n",
        "    string = input().strip()\n",
        "    sub_string = input().strip()\n",
        "    \n",
        "    count = count_substring(string, sub_string)\n",
        "    print(count)\n",
        "\n"
      ]
    },
    {
      "attachments": {},
      "cell_type": "markdown",
      "metadata": {
        "id": "LEEg1AW3osyP"
      },
      "source": [
        "#### Q15 no idea\n",
        "\n",
        "link - https://www.hackerrank.com/challenges/no-idea/problem"
      ]
    },
    {
      "cell_type": "code",
      "execution_count": null,
      "metadata": {
        "id": "LLyKjQwIosyQ"
      },
      "outputs": [],
      "source": [
        "n,m = map(int, input().split())\n",
        "arr = list(map(int, input().split()))\n",
        "A = set(map(int, input().split()))\n",
        "B = set(map(int, input().split()))\n",
        "happiness = 0\n",
        "for i in arr:\n",
        "    if i in A:\n",
        "        happiness+=1\n",
        "    if i in B:\n",
        "        happiness-=1\n",
        "print(happiness)\n",
        "\n"
      ]
    },
    {
      "attachments": {},
      "cell_type": "markdown",
      "metadata": {
        "id": "fwhygGG-osyQ"
      },
      "source": [
        "#### Q16 Symmetric difference set\n",
        "\n",
        "link - https://www.hackerrank.com/challenges/py-set-symmetric-difference-operation/problem\n"
      ]
    },
    {
      "cell_type": "code",
      "execution_count": null,
      "metadata": {
        "id": "gQQheUK2osyQ"
      },
      "outputs": [],
      "source": [
        "\n",
        "english = int(input())\n",
        "english_set = set(map(int, input().split()))\n",
        "french = int(input())\n",
        "french_set = set(map(int, input().split()))\n",
        "set_symmetric_diff = english_set ^ french_set\n",
        "print(len(set_symmetric_diff))\n",
        "\n"
      ]
    },
    {
      "attachments": {},
      "cell_type": "markdown",
      "metadata": {
        "id": "FbxKba9rosyQ"
      },
      "source": [
        "#### Q17 lambda map expression\n",
        "\n",
        "link - https://www.hackerrank.com/challenges/map-and-lambda-expression/problem"
      ]
    },
    {
      "cell_type": "code",
      "execution_count": null,
      "metadata": {
        "id": "vE_bTpCBosyQ"
      },
      "outputs": [],
      "source": [
        "\n",
        "cube = lambda x: x**3# complete the lambda function \n",
        "\n",
        "def fibonacci(n):\n",
        "    # return a list of fibonacci numbers\n",
        "    n1 = 0\n",
        "    n2 = 1\n",
        "    fib = [n1,n2]\n",
        "    if n == 0:\n",
        "        return []\n",
        "    elif n == 1:\n",
        "        return [n1]\n",
        "    elif n == 2:\n",
        "        return fib\n",
        "    else:\n",
        "        for i in range(n-2):\n",
        "            n3 = n1+n2\n",
        "            fib.append(n3)\n",
        "            n1 = n2\n",
        "            n2 = n3\n",
        "        return fib\n",
        "\n",
        "if __name__ == '__main__':\n",
        "    n = int(input())\n",
        "    print(list(map(cube, fibonacci(n))))\n",
        "\n"
      ]
    },
    {
      "attachments": {},
      "cell_type": "markdown",
      "metadata": {
        "id": "6eMNiZkLosyR"
      },
      "source": [
        "#### Q18. validate list of email address\n",
        "\n",
        "link - https://www.hackerrank.com/challenges/validate-list-of-email-address-with-filter/problem\n"
      ]
    },
    {
      "cell_type": "code",
      "execution_count": null,
      "metadata": {
        "id": "xfHybpo-osyR"
      },
      "outputs": [],
      "source": [
        "\n",
        "import re\n",
        "def fun(s):\n",
        "    # return True if s is a valid email, else return False\n",
        "    regex = r\"^[a-zA-Z0-9\\-\\_]+@[a-zA-Z0-9]+\\.[a-zA-Z]{1,3}$\"    \n",
        "    match = re.search(regex, s)  \n",
        "    if match != None:\n",
        "        return True\n",
        "    else:\n",
        "        return False    \n",
        "        \n",
        "def filter_mail(emails):\n",
        "    return list(filter(fun, emails))\n",
        "\n",
        "if __name__ == '__main__':\n",
        "    n = int(input())\n",
        "    emails = []\n",
        "    for _ in range(n):\n",
        "        emails.append(input())\n",
        "\n",
        "filtered_emails = filter_mail(emails)\n",
        "filtered_emails.sort()\n",
        "print(filtered_emails)\n"
      ]
    },
    {
      "attachments": {},
      "cell_type": "markdown",
      "metadata": {
        "id": "A94vaFRNosyR"
      },
      "source": [
        "#### Q19 reduce function problem\n",
        "\n",
        "link - https://www.hackerrank.com/challenges/reduce-function/problem\n"
      ]
    },
    {
      "cell_type": "code",
      "execution_count": null,
      "metadata": {
        "id": "x7-bTyE5osyR"
      },
      "outputs": [],
      "source": [
        "from fractions import Fraction\n",
        "from functools import reduce\n",
        "\n",
        "reduce(lambda x, y : x * y,[1,2,3],1)\n",
        "\n",
        "def product(fracs):\n",
        "    t = reduce(lambda x, y : x * y,fracs,1)\n",
        "    return t.numerator, t.denominator\n",
        "\n",
        "    \n",
        "# fracs.append(Fraction(*map(int, input().split())))\n",
        "# print(fracs)\n",
        "# [Fraction(1, 2), Fraction(3, 4), Fraction(5, 3)]\n",
        "# print(Fraction(15,24)) = print(Fraction(1, 2)*Fraction(3, 4)*Fraction(5, 3))\n",
        "# So, code will be : t = reduce(lambda x, y : x * y,fracs,1)\n",
        "# 5/8\n",
        "\n",
        "if __name__ == '__main__':\n",
        "    fracs = []\n",
        "    for _ in range(int(input())):\n",
        "        fracs.append(Fraction(*map(int, input().split())))\n",
        "    result = product(fracs)\n",
        "    print(*result)\n",
        "\n",
        "\n",
        "\n",
        "\n",
        "\n",
        "\n",
        "\n"
      ]
    },
    {
      "attachments": {},
      "cell_type": "markdown",
      "metadata": {
        "id": "DKf4OvU9osyR"
      },
      "source": [
        "#### Q20 collection counter problem\n",
        "\n",
        "link - https://www.hackerrank.com/challenges/collections-counter/problem\n"
      ]
    },
    {
      "cell_type": "code",
      "execution_count": null,
      "metadata": {
        "id": "n7OaCKmdosyR"
      },
      "outputs": [],
      "source": [
        "\n",
        "from collections import Counter\n",
        "# Enter your code here. Read input from STDIN. Print output to STDOUT\n",
        "# X : number of shoe\n",
        "X = int(input())\n",
        "# The second line contains the space separated list of all the shoe sizes in the shop.\n",
        "all_available_shoe_sizes = list(map(int, input().split()))\n",
        "# creating dictionay obj : key=shoe_size, value=available shoe\n",
        "all_available_shoe_sizes = Counter(all_available_shoe_sizes)\n",
        "# The third line contains N, the number of customers.\n",
        "N = int(input())\n",
        "Total_money_earned = 0\n",
        "# The next 'N' lines contain the space separated values of the 'shoe sizes' desired by the customer and 'xi', the price of the shoe.\n",
        "for i in range(N):\n",
        "    shoe_size,desired_price = map(int, input().split())\n",
        "    if shoe_size in all_available_shoe_sizes.keys():\n",
        "        if all_available_shoe_sizes[shoe_size] > 0:\n",
        "            all_available_shoe_sizes[shoe_size] -=1\n",
        "            Total_money_earned += desired_price\n",
        "print(Total_money_earned)\n",
        "\n",
        "\n"
      ]
    },
    {
      "attachments": {},
      "cell_type": "markdown",
      "metadata": {
        "id": "U_ZzeYESosyS"
      },
      "source": [
        "#### Q21 collections namedtuple\n",
        "\n",
        "link - https://www.hackerrank.com/challenges/py-collections-namedtuple/problem\n"
      ]
    },
    {
      "cell_type": "code",
      "execution_count": null,
      "metadata": {
        "id": "-6av1PdeosyS"
      },
      "outputs": [],
      "source": [
        "\n",
        "from collections import namedtuple\n",
        "n,Students,marks=int(input()),namedtuple(\"Student\",input()),0\n",
        "for i in range(n):\n",
        "    marks+=int(Students(*input().split()).MARKS)\n",
        "print(marks/n)\n",
        "\n",
        "# from collections import namedtuple\n",
        "# N, students = int(input()), namedtuple('students', input())\n",
        "# print(sum([int(students(*input().split()).MARKS) for i in range(N)])/N)\n",
        "\n"
      ]
    },
    {
      "attachments": {},
      "cell_type": "markdown",
      "metadata": {
        "id": "xuo1t0WQosyS"
      },
      "source": [
        "#### Q22 default dict \n",
        "\n",
        "link - \n",
        "https://www.hackerrank.com/challenges/defaultdict-tutorial/problem\n"
      ]
    },
    {
      "cell_type": "code",
      "execution_count": null,
      "metadata": {
        "id": "TS4tWDY_osyS"
      },
      "outputs": [],
      "source": [
        "\n",
        "from collections import defaultdict\n",
        "n,m = map(int, input().split())\n",
        "A = defaultdict(list)\n",
        "B = []\n",
        "for a in range(n):\n",
        "    A[input()].append(a+1)\n",
        "for b in range(m):\n",
        "    B.append(input())\n",
        "\n",
        "for b in B:\n",
        "    if len(A[b]) == 0:\n",
        "        print(-1)\n",
        "    else:\n",
        "        print(\" \".join([str(ch) for ch in A[b]]))\n"
      ]
    },
    {
      "attachments": {},
      "cell_type": "markdown",
      "metadata": {
        "id": "8ScoIkOZosyT"
      },
      "source": [
        "#### Q23 Ordered dict\n",
        "\n",
        "link - https://www.hackerrank.com/challenges/py-collections-ordereddict/problem\n"
      ]
    },
    {
      "cell_type": "code",
      "execution_count": null,
      "metadata": {
        "id": "we18lf7IosyT"
      },
      "outputs": [],
      "source": [
        "\n",
        "from collections import OrderedDict\n",
        "ordered_dictionary = OrderedDict()\n",
        "n = int(input())\n",
        "item_lst = []\n",
        "for i in range(n):\n",
        "    item_lst = list(map(str, input().split()))\n",
        "    price = int(item_lst[-1])\n",
        "    item_lst.pop()\n",
        "    item_name = \" \".join(item_lst)\n",
        "    if item_name not in ordered_dictionary.keys():\n",
        "        ordered_dictionary[item_name] = price\n",
        "    else:\n",
        "        ordered_dictionary[item_name] +=price\n",
        "\n",
        "for k,v in ordered_dictionary.items():\n",
        "    print(k,v)\n",
        "\n"
      ]
    },
    {
      "attachments": {},
      "cell_type": "markdown",
      "metadata": {
        "id": "xe-RIgx3osyT"
      },
      "source": [
        "#### Q24 word order\n",
        "\n",
        "link - https://www.hackerrank.com/challenges/word-order/problem\n"
      ]
    },
    {
      "cell_type": "code",
      "execution_count": null,
      "metadata": {
        "id": "yLYImgu6osyT"
      },
      "outputs": [],
      "source": [
        "from collections import OrderedDict\n",
        "ordered_dictionary = OrderedDict()\n",
        "for i in range(int(input())):\n",
        "    word = input()\n",
        "    if word not in ordered_dictionary.keys():\n",
        "        ordered_dictionary[word] = 1\n",
        "    else:\n",
        "        ordered_dictionary[word] +=1\n",
        "\n",
        "print(len(ordered_dictionary))\n",
        "for v in ordered_dictionary.values():\n",
        "    print(v,end=\" \")\n"
      ]
    },
    {
      "attachments": {},
      "cell_type": "markdown",
      "metadata": {
        "id": "fsco1u0rosyT"
      },
      "source": [
        "#### Q25 Company logo\n",
        "\n",
        "link - https://www.hackerrank.com/challenges/most-commons/problem\n"
      ]
    },
    {
      "cell_type": "code",
      "execution_count": null,
      "metadata": {
        "id": "-RaQogy4osyU"
      },
      "outputs": [],
      "source": [
        "\n",
        "if __name__ == '__main__':\n",
        "    s = input()\n",
        "    a = \"\"\n",
        "    d = []\n",
        "    for i in s:\n",
        "        if i not in a:\n",
        "            d.append((i, s.count(i)))\n",
        "            a += i\n",
        "    d.sort()\n",
        "    d.sort(key=lambda n: n[1], reverse=True)\n",
        "    for i in range(3):\n",
        "        print(*d[i])\n"
      ]
    },
    {
      "attachments": {},
      "cell_type": "markdown",
      "metadata": {
        "id": "UAvrCMm2osyU"
      },
      "source": [
        "#### Q26 itertools product\n",
        "\n",
        "link - https://www.hackerrank.com/challenges/itertools-product/problem\n",
        " "
      ]
    },
    {
      "cell_type": "code",
      "execution_count": null,
      "metadata": {
        "id": "YTaV-fclosyU"
      },
      "outputs": [],
      "source": [
        "from itertools import product\n",
        "A = list(map(int,input().split()))\n",
        "B = list(map(int,input().split()))\n",
        "print(*product(A,B))\n",
        "# for i in list(product(A,B)):\n",
        "#     print(i,end=\" \")\n",
        "\n"
      ]
    },
    {
      "attachments": {},
      "cell_type": "markdown",
      "metadata": {
        "id": "CleYbdUMosyU"
      },
      "source": [
        "#### Q27 itertools permutation\n",
        "\n",
        "link - https://www.hackerrank.com/challenges/itertools-permutations/problem\n"
      ]
    },
    {
      "cell_type": "code",
      "execution_count": null,
      "metadata": {
        "id": "VsYp6g0iosyU"
      },
      "outputs": [],
      "source": [
        "\n",
        "from itertools import permutations\n",
        "s,k = input().split()\n",
        "p = list(permutations(s,int(k)))   \n",
        "per = [\"\".join(p[i]) for i in range(len(p))]\n",
        "per.sort()\n",
        "for w in per:\n",
        "    print(w)\n"
      ]
    },
    {
      "attachments": {},
      "cell_type": "markdown",
      "metadata": {
        "id": "7hKGKAHUosyU"
      },
      "source": [
        "#### Q28 itertools combination\n",
        "\n",
        "link - https://www.hackerrank.com/challenges/itertools-combinations/problem\n"
      ]
    },
    {
      "cell_type": "code",
      "execution_count": null,
      "metadata": {
        "id": "WIfvePGCosyV"
      },
      "outputs": [],
      "source": [
        "\n",
        "from itertools import combinations\n",
        "s,k = input().split()\n",
        "s = ''.join(sorted(s))\n",
        "comb = []  \n",
        "for i in range(1,int(k)+1):\n",
        "    c = list(combinations(s,i))\n",
        "    for ch in c:\n",
        "        comb.append(ch)\n",
        "\n",
        "per = [\"\".join(comb[i]) for i in range(len(comb))]\n",
        "\n",
        "for w in per:\n",
        "    print(w)\n"
      ]
    },
    {
      "attachments": {},
      "cell_type": "markdown",
      "metadata": {
        "id": "PnE0uA7GosyV"
      },
      "source": [
        "#### Q29 itertools combination\n",
        "\n",
        "link - https://www.hackerrank.com/challenges/itertools-combinations-with-replacement/problem\n"
      ]
    },
    {
      "cell_type": "code",
      "execution_count": null,
      "metadata": {
        "id": "zoJAei-0osyV"
      },
      "outputs": [],
      "source": [
        "\n",
        "\n",
        "from itertools import combinations_with_replacement\n",
        "s,k = input().split()\n",
        "s = ''.join(sorted(s))\n",
        "p = list(combinations_with_replacement(s,int(k)))   \n",
        "\n",
        "print(*[\"\".join(p[i]) for i in range(len(p))],sep=\"\\n\")\n"
      ]
    },
    {
      "attachments": {},
      "cell_type": "markdown",
      "metadata": {
        "id": "uTQTX6VeosyV"
      },
      "source": [
        "#### Q30 compress the string\n",
        "\n",
        "link - https://www.hackerrank.com/challenges/compress-the-string/problem\n"
      ]
    },
    {
      "cell_type": "code",
      "execution_count": null,
      "metadata": {
        "id": "9r2KkuunosyV"
      },
      "outputs": [],
      "source": [
        "# [k for k, g in groupby('AAAABBBCCD')] --> A B C D\n",
        "# [list(g) for k, g in groupby('AAAABBBCCD')] --> AAAA BBB CC D\n",
        "from itertools import groupby\n",
        "print(*[(len(i),int(i[0])) for i in [list(g) for k, g in groupby(input())]])\n",
        "\n"
      ]
    },
    {
      "attachments": {},
      "cell_type": "markdown",
      "metadata": {
        "id": "POhilCN2osyW"
      },
      "source": [
        "#### Q31 iterables and iterators\n",
        "\n",
        "link - https://www.hackerrank.com/challenges/iterables-and-iterators/problem\n"
      ]
    },
    {
      "cell_type": "code",
      "execution_count": null,
      "metadata": {
        "id": "wGhG_CYeosyW"
      },
      "outputs": [],
      "source": [
        "from itertools import combinations\n",
        "N,s,K = int(input()),list(map(str,input().split())),int(input())\n",
        "indices_of_a = [ele[0] for ele in [ch for ch in list(enumerate(s,1))] if ele[1]=='a']\n",
        "all_combinations = list(combinations([i+1 for i in range(N)],K))\n",
        "\n",
        "\n",
        "def contains_either_index(i):\n",
        "    flag = 0\n",
        "    for j in i:\n",
        "        if j in indices_of_a:\n",
        "            flag = 1\n",
        "    if flag:\n",
        "        return True\n",
        "    else:\n",
        "        return False\n",
        "    \n",
        "        \n",
        "print(len(list(filter(contains_either_index,all_combinations)))/len(all_combinations))\n"
      ]
    },
    {
      "attachments": {},
      "cell_type": "markdown",
      "metadata": {
        "id": "-b33odxaosyW"
      },
      "source": [
        "#### Q32 Maximize it\n",
        "\n",
        "link - https://www.hackerrank.com/challenges/maximize-it/problem\n"
      ]
    },
    {
      "cell_type": "code",
      "execution_count": null,
      "metadata": {
        "id": "ARwy1rWwosyW"
      },
      "outputs": [],
      "source": [
        "\n",
        "\n",
        "from itertools import product\n",
        "K, M = map(int, input().split())\n",
        "print(max(map(lambda x: sum(x)%M, product(*[map(lambda x: int(x)**2, input().split()[1:])for _ in range(K)]))))\n",
        "\n",
        "\n",
        "\n"
      ]
    },
    {
      "attachments": {},
      "cell_type": "markdown",
      "metadata": {
        "id": "ilFGIzwYosyW"
      },
      "source": [
        "---------------------------------\n",
        "\n",
        "# \"Cheers\":) Congratulations! you have completed the Python Intermediate challenge. \n",
        "\n",
        "--------------------------------\n"
      ]
    }
  ],
  "metadata": {
    "colab": {
      "provenance": []
    },
    "kernelspec": {
      "display_name": "Python 3",
      "language": "python",
      "name": "python3"
    },
    "language_info": {
      "codemirror_mode": {
        "name": "ipython",
        "version": 3
      },
      "file_extension": ".py",
      "mimetype": "text/x-python",
      "name": "python",
      "nbconvert_exporter": "python",
      "pygments_lexer": "ipython3",
      "version": "3.8.5"
    }
  },
  "nbformat": 4,
  "nbformat_minor": 0
}
